{
 "cells": [
  {
   "attachments": {},
   "cell_type": "markdown",
   "id": "bfbcb86d",
   "metadata": {},
   "source": [
    "# Run Hugging Face `flan-t5\n",
    "`  sampling on Inf2"
   ]
  },
  {
   "cell_type": "code",
   "execution_count": 4,
   "id": "c69d635e",
   "metadata": {},
   "outputs": [
    {
     "name": "stdout",
     "output_type": "stream",
     "text": [
      "Looking in indexes: https://pypi.org/simple, https://pip.repos.neuron.amazonaws.com\n",
      "Collecting SentencePiece\n",
      "  Downloading sentencepiece-0.1.99-cp38-cp38-manylinux_2_17_x86_64.manylinux2014_x86_64.whl (1.3 MB)\n",
      "\u001b[2K     \u001b[90m━━━━━━━━━━━━━━━━━━━━━━━━━━━━━━━━━━━━━━━━\u001b[0m \u001b[32m1.3/1.3 MB\u001b[0m \u001b[31m56.4 MB/s\u001b[0m eta \u001b[36m0:00:00\u001b[0m\n",
      "\u001b[?25hInstalling collected packages: SentencePiece\n",
      "Successfully installed SentencePiece-0.1.99\n"
     ]
    }
   ],
   "source": [
    "# !pip install git+https://github.com/aws-neuron/transformers-neuronx.git transformers -U\n",
    "# !pip install accelerate\n",
    "!pip install SentencePiece"
   ]
  },
  {
   "cell_type": "markdown",
   "id": "a032b339",
   "metadata": {},
   "source": [
    "## Download and construct the model"
   ]
  },
  {
   "cell_type": "markdown",
   "id": "b9a93feb",
   "metadata": {},
   "source": [
    "We download and construct the `facebook/opt-13b` model using the Hugging Face `from_pretrained` method."
   ]
  },
  {
   "cell_type": "code",
   "execution_count": 1,
   "id": "e6db7ac1",
   "metadata": {},
   "outputs": [],
   "source": [
    "import torch\n",
    "import torch_neuronx\n",
    "from transformers import T5Tokenizer, T5ForConditionalGeneration, AutoTokenizer, AutoModelForSequenceClassification"
   ]
  },
  {
   "cell_type": "code",
   "execution_count": 4,
   "id": "66f9b8f6",
   "metadata": {},
   "outputs": [],
   "source": [
    "tokenizer = T5Tokenizer.from_pretrained(\"google/flan-t5-base\")"
   ]
  },
  {
   "cell_type": "code",
   "execution_count": 5,
   "id": "34538508",
   "metadata": {},
   "outputs": [],
   "source": [
    "model = T5ForConditionalGeneration.from_pretrained(\"google/flan-t5-base\", device_map=\"auto\")\n"
   ]
  },
  {
   "cell_type": "code",
   "execution_count": 21,
   "id": "30c6840e",
   "metadata": {},
   "outputs": [],
   "source": [
    "# CPU output"
   ]
  },
  {
   "cell_type": "code",
   "execution_count": 6,
   "id": "d8b00e9f",
   "metadata": {},
   "outputs": [
    {
     "name": "stderr",
     "output_type": "stream",
     "text": [
      "/opt/aws_neuron_venv_pytorch/lib/python3.8/site-packages/transformers/generation/utils.py:1273: UserWarning: Neither `max_length` nor `max_new_tokens` has been set, `max_length` will default to 20 (`generation_config.max_length`). Controlling `max_length` via the config is deprecated and `max_length` will be removed from the config in v5 of Transformers -- we recommend using `max_new_tokens` to control the maximum length of the generation.\n",
      "  warnings.warn(\n"
     ]
    },
    {
     "name": "stdout",
     "output_type": "stream",
     "text": [
      "<pad> Wie old sind Sie?</s>\n"
     ]
    }
   ],
   "source": [
    "input_text = \"translate English to German: How old are you?\"\n",
    "input_ids = tokenizer(input_text, return_tensors=\"pt\").input_ids\n",
    "outputs = model.generate(input_ids)\n",
    "print(tokenizer.decode(outputs[0]))"
   ]
  },
  {
   "cell_type": "code",
   "execution_count": 7,
   "id": "2efd0402",
   "metadata": {},
   "outputs": [],
   "source": [
    "input_ids = tokenizer(input_text, return_tensors=\"pt\").input_ids.to('xla')"
   ]
  },
  {
   "cell_type": "code",
   "execution_count": 9,
   "id": "e5b4b84d",
   "metadata": {},
   "outputs": [
    {
     "name": "stderr",
     "output_type": "stream",
     "text": [
      "2023-05-21 08:04:19.000208: INFO ||NCC_WRAPPER||: No candidate found under /var/tmp/neuron-compile-cache/USER_neuroncc-2.6.0.19+3d819e565/MODULE_12367809065690555000.\n",
      "2023-05-21 08:04:19.000208: INFO ||NCC_WRAPPER||: Cache dir for the neff: /var/tmp/neuron-compile-cache/USER_neuroncc-2.6.0.19+3d819e565/MODULE_12367809065690555000/MODULE_7_SyncTensorsGraph.10_12367809065690555000_ip-10-0-12-88-d482271d-379312-5fc2f99e57e4c/1610e366-25b7-4322-8ef5-d0ee5cd10800\n"
     ]
    },
    {
     "name": "stdout",
     "output_type": "stream",
     "text": [
      ".\n",
      "Compiler status PASS\n"
     ]
    },
    {
     "name": "stderr",
     "output_type": "stream",
     "text": [
      "2023-05-21 08:04:20.000346: INFO ||NCC_WRAPPER||: Exiting with a successfully compiled graph\n",
      "2023-05-21 08:04:20.000400: INFO ||NCC_WRAPPER||: No candidate found under /var/tmp/neuron-compile-cache/USER_neuroncc-2.6.0.19+3d819e565/MODULE_8232581595844785709.\n",
      "2023-05-21 08:04:20.000400: INFO ||NCC_WRAPPER||: Cache dir for the neff: /var/tmp/neuron-compile-cache/USER_neuroncc-2.6.0.19+3d819e565/MODULE_8232581595844785709/MODULE_8_SyncTensorsGraph.21_8232581595844785709_ip-10-0-12-88-3ccbd63b-379312-5fc2f99f7abf2/2d635e69-c879-45f4-8492-a997639cdb71\n"
     ]
    },
    {
     "name": "stdout",
     "output_type": "stream",
     "text": [
      ".\n",
      "Compiler status PASS\n"
     ]
    },
    {
     "name": "stderr",
     "output_type": "stream",
     "text": [
      "2023-05-21 08:04:21.000622: INFO ||NCC_WRAPPER||: Exiting with a successfully compiled graph\n",
      "2023-05-21 08:04:21.000674: INFO ||NCC_WRAPPER||: No candidate found under /var/tmp/neuron-compile-cache/USER_neuroncc-2.6.0.19+3d819e565/MODULE_6728612151443243198.\n",
      "2023-05-21 08:04:21.000675: INFO ||NCC_WRAPPER||: Cache dir for the neff: /var/tmp/neuron-compile-cache/USER_neuroncc-2.6.0.19+3d819e565/MODULE_6728612151443243198/MODULE_9_SyncTensorsGraph.7_6728612151443243198_ip-10-0-12-88-ee8c1caf-379312-5fc2f9a0b1cf5/d8fbfb6b-26dd-4349-9094-94e5c1c7203d\n"
     ]
    },
    {
     "name": "stdout",
     "output_type": "stream",
     "text": [
      ".\n",
      "Compiler status PASS\n"
     ]
    },
    {
     "name": "stderr",
     "output_type": "stream",
     "text": [
      "2023-05-21 08:04:22.000845: INFO ||NCC_WRAPPER||: Exiting with a successfully compiled graph\n",
      "/opt/aws_neuron_venv_pytorch/lib/python3.8/site-packages/transformers/generation/utils.py:1273: UserWarning: Neither `max_length` nor `max_new_tokens` has been set, `max_length` will default to 20 (`generation_config.max_length`). Controlling `max_length` via the config is deprecated and `max_length` will be removed from the config in v5 of Transformers -- we recommend using `max_new_tokens` to control the maximum length of the generation.\n",
      "  warnings.warn(\n",
      "/opt/aws_neuron_venv_pytorch/lib/python3.8/site-packages/transformers/generation/utils.py:1359: UserWarning: You are calling .generate() with the `input_ids` being on a device type different than your model's device. `input_ids` is on xla, whereas the model is on cpu. You may experience unexpected behaviors or slower generation. Please make sure that you have put `input_ids` to the correct device by calling for example input_ids = input_ids.to('cpu') before running `.generate()`.\n",
      "  warnings.warn(\n",
      "2023-05-21 08:04:22.000950: INFO ||NCC_WRAPPER||: No candidate found under /var/tmp/neuron-compile-cache/USER_neuroncc-2.6.0.19+3d819e565/MODULE_15616021069120119422.\n",
      "2023-05-21 08:04:22.000951: INFO ||NCC_WRAPPER||: Cache dir for the neff: /var/tmp/neuron-compile-cache/USER_neuroncc-2.6.0.19+3d819e565/MODULE_15616021069120119422/MODULE_10_SyncTensorsGraph.8_15616021069120119422_ip-10-0-12-88-20b62c95-379312-5fc2f9a1e97df/3c648cc6-c7fa-4e43-9db9-c6741072cc27\n"
     ]
    },
    {
     "name": "stdout",
     "output_type": "stream",
     "text": [
      ".\n",
      "Compiler status PASS\n"
     ]
    },
    {
     "name": "stderr",
     "output_type": "stream",
     "text": [
      "2023-05-21 08:04:24.000193: INFO ||NCC_WRAPPER||: Exiting with a successfully compiled graph\n",
      "2023-05-21 08:04:24.000467: INFO ||NCC_WRAPPER||: No candidate found under /var/tmp/neuron-compile-cache/USER_neuroncc-2.6.0.19+3d819e565/MODULE_4737582643606614942.\n",
      "2023-05-21 08:04:24.000467: INFO ||NCC_WRAPPER||: Cache dir for the neff: /var/tmp/neuron-compile-cache/USER_neuroncc-2.6.0.19+3d819e565/MODULE_4737582643606614942/MODULE_11_SyncTensorsGraph.55_4737582643606614942_ip-10-0-12-88-a80c5d57-379312-5fc2f9a35be79/7e552b5c-81f2-4024-9e0d-6fa9cc196f72\n"
     ]
    },
    {
     "name": "stdout",
     "output_type": "stream",
     "text": [
      ".\n",
      "Compiler status PASS\n"
     ]
    },
    {
     "name": "stderr",
     "output_type": "stream",
     "text": [
      "2023-05-21 08:04:25.000827: INFO ||NCC_WRAPPER||: Exiting with a successfully compiled graph\n",
      "2023-05-21 08:04:25.000884: INFO ||NCC_WRAPPER||: No candidate found under /var/tmp/neuron-compile-cache/USER_neuroncc-2.6.0.19+3d819e565/MODULE_6663995554936667274.\n",
      "2023-05-21 08:04:25.000884: INFO ||NCC_WRAPPER||: Cache dir for the neff: /var/tmp/neuron-compile-cache/USER_neuroncc-2.6.0.19+3d819e565/MODULE_6663995554936667274/MODULE_12_SyncTensorsGraph.39_6663995554936667274_ip-10-0-12-88-f89cd850-379312-5fc2f9a4b58f9/02c073f1-7ebc-47ea-bcda-dc0d2a9c3f3f\n"
     ]
    },
    {
     "name": "stdout",
     "output_type": "stream",
     "text": [
      ".\n",
      "Compiler status PASS\n"
     ]
    },
    {
     "name": "stderr",
     "output_type": "stream",
     "text": [
      "2023-05-21 08:04:27.000268: INFO ||NCC_WRAPPER||: Exiting with a successfully compiled graph\n",
      "2023-05-21 08:04:27.000323: INFO ||NCC_WRAPPER||: No candidate found under /var/tmp/neuron-compile-cache/USER_neuroncc-2.6.0.19+3d819e565/MODULE_13890848330767938903.\n",
      "2023-05-21 08:04:27.000323: INFO ||NCC_WRAPPER||: Cache dir for the neff: /var/tmp/neuron-compile-cache/USER_neuroncc-2.6.0.19+3d819e565/MODULE_13890848330767938903/MODULE_13_SyncTensorsGraph.3_13890848330767938903_ip-10-0-12-88-d5bfa8ec-379312-5fc2f9a614a18/bbf52d7c-91fe-462e-83e4-e39e321cc213\n"
     ]
    },
    {
     "name": "stdout",
     "output_type": "stream",
     "text": [
      ".\n",
      "Compiler status PASS\n"
     ]
    },
    {
     "name": "stderr",
     "output_type": "stream",
     "text": [
      "2023-05-21 08:04:28.000472: INFO ||NCC_WRAPPER||: Exiting with a successfully compiled graph\n",
      "2023-05-21 08:04:28.000525: INFO ||NCC_WRAPPER||: No candidate found under /var/tmp/neuron-compile-cache/USER_neuroncc-2.6.0.19+3d819e565/MODULE_2948535229842390536.\n",
      "2023-05-21 08:04:28.000525: INFO ||NCC_WRAPPER||: Cache dir for the neff: /var/tmp/neuron-compile-cache/USER_neuroncc-2.6.0.19+3d819e565/MODULE_2948535229842390536/MODULE_14_SyncTensorsGraph.3_2948535229842390536_ip-10-0-12-88-4921d51e-379312-5fc2f9a73a30f/379ac9c6-064d-4dc2-952b-1f44f5a09f5a\n"
     ]
    },
    {
     "name": "stdout",
     "output_type": "stream",
     "text": [
      ".\n",
      "Compiler status PASS\n"
     ]
    },
    {
     "name": "stderr",
     "output_type": "stream",
     "text": [
      "2023-05-21 08:04:29.000647: INFO ||NCC_WRAPPER||: Exiting with a successfully compiled graph\n",
      "2023-05-21 08:04:29.000834: INFO ||NCC_WRAPPER||: No candidate found under /var/tmp/neuron-compile-cache/USER_neuroncc-2.6.0.19+3d819e565/MODULE_6416997217967161750.\n",
      "2023-05-21 08:04:29.000834: INFO ||NCC_WRAPPER||: Cache dir for the neff: /var/tmp/neuron-compile-cache/USER_neuroncc-2.6.0.19+3d819e565/MODULE_6416997217967161750/MODULE_15_SyncTensorsGraph.95_6416997217967161750_ip-10-0-12-88-f89cd850-379312-5fc2f9a87a072/0f934b0e-5284-4f88-bdb1-51c8425335d7\n"
     ]
    },
    {
     "name": "stdout",
     "output_type": "stream",
     "text": [
      ".\n",
      "Compiler status PASS\n"
     ]
    },
    {
     "name": "stderr",
     "output_type": "stream",
     "text": [
      "2023-05-21 08:04:31.000453: INFO ||NCC_WRAPPER||: Exiting with a successfully compiled graph\n",
      "2023-05-21 08:04:31.000536: INFO ||NCC_WRAPPER||: No candidate found under /var/tmp/neuron-compile-cache/USER_neuroncc-2.6.0.19+3d819e565/MODULE_5561130140894885936.\n",
      "2023-05-21 08:04:31.000537: INFO ||NCC_WRAPPER||: Cache dir for the neff: /var/tmp/neuron-compile-cache/USER_neuroncc-2.6.0.19+3d819e565/MODULE_5561130140894885936/MODULE_16_SyncTensorsGraph.82_5561130140894885936_ip-10-0-12-88-61af81ac-379312-5fc2f9aa198c1/3d2e5de6-819b-4b1c-8475-7722fb1581c5\n"
     ]
    },
    {
     "name": "stdout",
     "output_type": "stream",
     "text": [
      ".\n",
      "Compiler status PASS\n"
     ]
    },
    {
     "name": "stderr",
     "output_type": "stream",
     "text": [
      "2023-05-21 08:04:33.000053: INFO ||NCC_WRAPPER||: Exiting with a successfully compiled graph\n",
      "2023-05-21 08:04:33.000112: INFO ||NCC_WRAPPER||: No candidate found under /var/tmp/neuron-compile-cache/USER_neuroncc-2.6.0.19+3d819e565/MODULE_8416095582465822960.\n",
      "2023-05-21 08:04:33.000112: INFO ||NCC_WRAPPER||: Cache dir for the neff: /var/tmp/neuron-compile-cache/USER_neuroncc-2.6.0.19+3d819e565/MODULE_8416095582465822960/MODULE_17_SyncTensorsGraph.3_8416095582465822960_ip-10-0-12-88-d5bfa8ec-379312-5fc2f9ab9a51c/cece7581-97a4-471f-a8c4-d8ce7bd5aff1\n"
     ]
    },
    {
     "name": "stdout",
     "output_type": "stream",
     "text": [
      ".\n",
      "Compiler status PASS\n"
     ]
    },
    {
     "name": "stderr",
     "output_type": "stream",
     "text": [
      "2023-05-21 08:04:34.000304: INFO ||NCC_WRAPPER||: Exiting with a successfully compiled graph\n",
      "2023-05-21 08:04:34.000521: INFO ||NCC_WRAPPER||: No candidate found under /var/tmp/neuron-compile-cache/USER_neuroncc-2.6.0.19+3d819e565/MODULE_9123307887752028879.\n",
      "2023-05-21 08:04:34.000521: INFO ||NCC_WRAPPER||: Cache dir for the neff: /var/tmp/neuron-compile-cache/USER_neuroncc-2.6.0.19+3d819e565/MODULE_9123307887752028879/MODULE_18_SyncTensorsGraph.135_9123307887752028879_ip-10-0-12-88-61af81ac-379312-5fc2f9acf2538/a52e9799-90dd-42e6-9635-06296388171c\n"
     ]
    },
    {
     "name": "stdout",
     "output_type": "stream",
     "text": [
      ".\n",
      "Compiler status PASS\n"
     ]
    },
    {
     "name": "stderr",
     "output_type": "stream",
     "text": [
      "2023-05-21 08:04:36.000342: INFO ||NCC_WRAPPER||: Exiting with a successfully compiled graph\n",
      "2023-05-21 08:04:36.000406: INFO ||NCC_WRAPPER||: No candidate found under /var/tmp/neuron-compile-cache/USER_neuroncc-2.6.0.19+3d819e565/MODULE_6842974128711080885.\n",
      "2023-05-21 08:04:36.000406: INFO ||NCC_WRAPPER||: Cache dir for the neff: /var/tmp/neuron-compile-cache/USER_neuroncc-2.6.0.19+3d819e565/MODULE_6842974128711080885/MODULE_19_SyncTensorsGraph.125_6842974128711080885_ip-10-0-12-88-d482271d-379312-5fc2f9aebe82a/e0938dcf-3445-4f2c-b89b-c48daa8ec961\n"
     ]
    },
    {
     "name": "stdout",
     "output_type": "stream",
     "text": [
      ".\n",
      "Compiler status PASS\n"
     ]
    },
    {
     "name": "stderr",
     "output_type": "stream",
     "text": [
      "2023-05-21 08:04:38.000117: INFO ||NCC_WRAPPER||: Exiting with a successfully compiled graph\n",
      "2023-05-21 08:04:38.000177: INFO ||NCC_WRAPPER||: No candidate found under /var/tmp/neuron-compile-cache/USER_neuroncc-2.6.0.19+3d819e565/MODULE_2261625697228088878.\n",
      "2023-05-21 08:04:38.000178: INFO ||NCC_WRAPPER||: Cache dir for the neff: /var/tmp/neuron-compile-cache/USER_neuroncc-2.6.0.19+3d819e565/MODULE_2261625697228088878/MODULE_20_SyncTensorsGraph.3_2261625697228088878_ip-10-0-12-88-3e5ca11-379312-5fc2f9b06ea40/bf85673e-7044-4123-86b6-f8a83897e6ec\n"
     ]
    },
    {
     "name": "stdout",
     "output_type": "stream",
     "text": [
      ".\n",
      "Compiler status PASS\n"
     ]
    },
    {
     "name": "stderr",
     "output_type": "stream",
     "text": [
      "2023-05-21 08:04:39.000314: INFO ||NCC_WRAPPER||: Exiting with a successfully compiled graph\n",
      "2023-05-21 08:04:39.000581: INFO ||NCC_WRAPPER||: No candidate found under /var/tmp/neuron-compile-cache/USER_neuroncc-2.6.0.19+3d819e565/MODULE_8296479042816271794.\n",
      "2023-05-21 08:04:39.000581: INFO ||NCC_WRAPPER||: Cache dir for the neff: /var/tmp/neuron-compile-cache/USER_neuroncc-2.6.0.19+3d819e565/MODULE_8296479042816271794/MODULE_21_SyncTensorsGraph.175_8296479042816271794_ip-10-0-12-88-89817ab8-379312-5fc2f9b1c562d/bf81bced-8aa3-42b6-b3cc-1b4123887919\n"
     ]
    },
    {
     "name": "stdout",
     "output_type": "stream",
     "text": [
      ".\n",
      "Compiler status PASS\n"
     ]
    },
    {
     "name": "stderr",
     "output_type": "stream",
     "text": [
      "2023-05-21 08:04:41.000516: INFO ||NCC_WRAPPER||: Exiting with a successfully compiled graph\n",
      "2023-05-21 08:04:41.000585: INFO ||NCC_WRAPPER||: No candidate found under /var/tmp/neuron-compile-cache/USER_neuroncc-2.6.0.19+3d819e565/MODULE_13340475340483331925.\n",
      "2023-05-21 08:04:41.000585: INFO ||NCC_WRAPPER||: Cache dir for the neff: /var/tmp/neuron-compile-cache/USER_neuroncc-2.6.0.19+3d819e565/MODULE_13340475340483331925/MODULE_22_SyncTensorsGraph.168_13340475340483331925_ip-10-0-12-88-3e5ca11-379312-5fc2f9b3ae7c2/ca761137-cd6f-49b7-86f2-155ded807e9a\n"
     ]
    },
    {
     "name": "stdout",
     "output_type": "stream",
     "text": [
      ".\n",
      "Compiler status PASS\n"
     ]
    },
    {
     "name": "stderr",
     "output_type": "stream",
     "text": [
      "2023-05-21 08:04:43.000569: INFO ||NCC_WRAPPER||: Exiting with a successfully compiled graph\n",
      "2023-05-21 08:04:43.000629: INFO ||NCC_WRAPPER||: No candidate found under /var/tmp/neuron-compile-cache/USER_neuroncc-2.6.0.19+3d819e565/MODULE_9707807869003979313.\n",
      "2023-05-21 08:04:43.000630: INFO ||NCC_WRAPPER||: Cache dir for the neff: /var/tmp/neuron-compile-cache/USER_neuroncc-2.6.0.19+3d819e565/MODULE_9707807869003979313/MODULE_23_SyncTensorsGraph.3_9707807869003979313_ip-10-0-12-88-d482271d-379312-5fc2f9b5a208d/334ad2fe-7cfa-4618-acfc-a06e0287e449\n"
     ]
    },
    {
     "name": "stdout",
     "output_type": "stream",
     "text": [
      ".\n",
      "Compiler status PASS\n"
     ]
    },
    {
     "name": "stderr",
     "output_type": "stream",
     "text": [
      "2023-05-21 08:04:44.000733: INFO ||NCC_WRAPPER||: Exiting with a successfully compiled graph\n",
      "2023-05-21 08:04:44.000942: INFO ||NCC_WRAPPER||: No candidate found under /var/tmp/neuron-compile-cache/USER_neuroncc-2.6.0.19+3d819e565/MODULE_2302658440878859001.\n",
      "2023-05-21 08:04:44.000943: INFO ||NCC_WRAPPER||: Cache dir for the neff: /var/tmp/neuron-compile-cache/USER_neuroncc-2.6.0.19+3d819e565/MODULE_2302658440878859001/MODULE_24_SyncTensorsGraph.215_2302658440878859001_ip-10-0-12-88-20b62c95-379312-5fc2f9b6e275f/715d2fc2-eb6d-4b43-b4e1-74e4f7681984\n"
     ]
    },
    {
     "name": "stdout",
     "output_type": "stream",
     "text": [
      ".\n",
      "Compiler status PASS\n"
     ]
    },
    {
     "name": "stderr",
     "output_type": "stream",
     "text": [
      "2023-05-21 08:04:47.000256: INFO ||NCC_WRAPPER||: Exiting with a successfully compiled graph\n",
      "2023-05-21 08:04:47.000331: INFO ||NCC_WRAPPER||: No candidate found under /var/tmp/neuron-compile-cache/USER_neuroncc-2.6.0.19+3d819e565/MODULE_10046884604148160942.\n",
      "2023-05-21 08:04:47.000331: INFO ||NCC_WRAPPER||: Cache dir for the neff: /var/tmp/neuron-compile-cache/USER_neuroncc-2.6.0.19+3d819e565/MODULE_10046884604148160942/MODULE_25_SyncTensorsGraph.211_10046884604148160942_ip-10-0-12-88-ee8c1caf-379312-5fc2f9b9290fb/08b7be15-d5e0-403f-877a-ab0a98236e34\n"
     ]
    },
    {
     "name": "stdout",
     "output_type": "stream",
     "text": [
      ".\n",
      "Compiler status PASS\n"
     ]
    },
    {
     "name": "stderr",
     "output_type": "stream",
     "text": [
      "2023-05-21 08:04:49.000479: INFO ||NCC_WRAPPER||: Exiting with a successfully compiled graph\n",
      "2023-05-21 08:04:49.000553: INFO ||NCC_WRAPPER||: No candidate found under /var/tmp/neuron-compile-cache/USER_neuroncc-2.6.0.19+3d819e565/MODULE_16021596497176750695.\n",
      "2023-05-21 08:04:49.000553: INFO ||NCC_WRAPPER||: Cache dir for the neff: /var/tmp/neuron-compile-cache/USER_neuroncc-2.6.0.19+3d819e565/MODULE_16021596497176750695/MODULE_26_SyncTensorsGraph.3_16021596497176750695_ip-10-0-12-88-d5bfa8ec-379312-5fc2f9bb47c9a/dbe74a24-4130-4dfc-a0d7-31680239eaf7\n"
     ]
    },
    {
     "name": "stdout",
     "output_type": "stream",
     "text": [
      ".\n",
      "Compiler status PASS\n"
     ]
    },
    {
     "name": "stderr",
     "output_type": "stream",
     "text": [
      "2023-05-21 08:04:50.000716: INFO ||NCC_WRAPPER||: Exiting with a successfully compiled graph\n",
      "2023-05-21 08:04:50.000918: INFO ||NCC_WRAPPER||: No candidate found under /var/tmp/neuron-compile-cache/USER_neuroncc-2.6.0.19+3d819e565/MODULE_11690760074461305133.\n",
      "2023-05-21 08:04:50.000918: INFO ||NCC_WRAPPER||: Cache dir for the neff: /var/tmp/neuron-compile-cache/USER_neuroncc-2.6.0.19+3d819e565/MODULE_11690760074461305133/MODULE_27_SyncTensorsGraph.255_11690760074461305133_ip-10-0-12-88-89817ab8-379312-5fc2f9bc956a1/dc590ae2-fe36-49b0-9c9b-f4c4ea9a3315\n"
     ]
    },
    {
     "name": "stdout",
     "output_type": "stream",
     "text": [
      ".\n",
      "Compiler status PASS\n"
     ]
    },
    {
     "name": "stderr",
     "output_type": "stream",
     "text": [
      "2023-05-21 08:04:53.000670: INFO ||NCC_WRAPPER||: Exiting with a successfully compiled graph\n",
      "/opt/aws_neuron_venv_pytorch/lib/python3.8/site-packages/torch_neuronx/xla_impl/hlo_conversion.py:114: UserWarning: Received an input tensor that was unused. Tensor will be ignored. (index=0, shape=torch.Size([1, 11]), dtype=torch.int64)\n",
      "  warnings.warn(\n",
      "2023-05-21T08:04:54Z WARNING 389930 [py.warnings]: /opt/aws_neuron_venv_pytorch/bin/neuronx-cc:8: RuntimeWarning: overflow encountered in int_scalars\n",
      "  sys.exit(main())\n",
      "\n",
      "2023-05-21T08:04:54Z WARNING 389930 [LayoutBottleneck]: Connected component _subtract.1 has no matmult/reduce/batchnorm. Guessing layout. Considering putting on CPU.\n"
     ]
    }
   ],
   "source": [
    "model_neuron = torch_neuronx.trace(model.generate, input_ids)"
   ]
  },
  {
   "cell_type": "code",
   "execution_count": 10,
   "id": "c5566815",
   "metadata": {},
   "outputs": [],
   "source": [
    "filename = 'model_Flan-t5-base.pt'\n",
    "torch.jit.save(model_neuron, filename)"
   ]
  },
  {
   "cell_type": "code",
   "execution_count": 19,
   "id": "56cdc03f",
   "metadata": {},
   "outputs": [
    {
     "name": "stdout",
     "output_type": "stream",
     "text": [
      "<pad> Wie old sind Sie?</s>\n"
     ]
    }
   ],
   "source": [
    "model_neuron_load = torch.jit.load(filename) \n",
    "neuron_outputs=model_neuron_load(input_ids)\n",
    "print(tokenizer.decode(neuron_outputs[0]))"
   ]
  },
  {
   "cell_type": "code",
   "execution_count": null,
   "id": "8b77fd83",
   "metadata": {},
   "outputs": [],
   "source": []
  }
 ],
 "metadata": {
  "kernelspec": {
   "display_name": "aws_neuron_venv_pytorch",
   "language": "python",
   "name": "python3"
  },
  "language_info": {
   "codemirror_mode": {
    "name": "ipython",
    "version": 3
   },
   "file_extension": ".py",
   "mimetype": "text/x-python",
   "name": "python",
   "nbconvert_exporter": "python",
   "pygments_lexer": "ipython3",
   "version": "3.8.10"
  }
 },
 "nbformat": 4,
 "nbformat_minor": 5
}
