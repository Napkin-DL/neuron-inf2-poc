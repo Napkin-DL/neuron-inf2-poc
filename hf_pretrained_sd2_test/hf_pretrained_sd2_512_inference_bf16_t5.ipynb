{
 "cells": [
  {
   "attachments": {},
   "cell_type": "markdown",
   "metadata": {},
   "source": [
    "**Introduction**\n",
    "\n",
    "This notebook demonstrates how to compile and run the HuggingFace Stable Diffusion 2.1 (512x512) model for accelerated inference on Neuron. For Stable Diffusion 768x768, please see the notebook named `hf_pretrained_sd2_768_inference.ipynb`. \n",
    "\n",
    "This Jupyter notebook should be run on an Inf2 instance (`inf2.8xlarge` or larger)"
   ]
  },
  {
   "attachments": {},
   "cell_type": "markdown",
   "metadata": {},
   "source": [
    "**Install Dependencies**\n",
    "\n",
    "This tutorial requires the following pip packages to be installed:\n",
    "- `torch-neuronx`\n",
    "- `neuronx-cc`\n",
    "- `diffusers==0.14.0`\n",
    "- `transformers==4.26.1`\n",
    "- `accelerate==0.16.0`\n",
    "\n",
    "`torch-neuronx` and `neuronx-cc` will be installed when you configure your environment following the Inf2 setup guide. The remaining dependencies can be installed as:\n",
    "\n",
    "```\n",
    "pip install diffusers==0.14.0\n",
    "pip install transformers==4.26.1\n",
    "pip install accelerate==0.16.0\n",
    "```"
   ]
  },
  {
   "cell_type": "markdown",
   "metadata": {},
   "source": [
    "**imports**"
   ]
  },
  {
   "cell_type": "code",
   "execution_count": 3,
   "metadata": {},
   "outputs": [
    {
     "name": "stdout",
     "output_type": "stream",
     "text": [
      "Looking in indexes: https://pypi.org/simple, https://pip.repos.neuron.amazonaws.com\n",
      "Collecting diffusers==0.14.0\n",
      "  Downloading diffusers-0.14.0-py3-none-any.whl (737 kB)\n",
      "\u001b[2K     \u001b[90m━━━━━━━━━━━━━━━━━━━━━━━━━━━━━━━━━━━━━━━\u001b[0m \u001b[32m737.4/737.4 kB\u001b[0m \u001b[31m8.2 MB/s\u001b[0m eta \u001b[36m0:00:00\u001b[0m00:01\u001b[0m\n",
      "\u001b[?25hRequirement already satisfied: importlib-metadata in /opt/aws_neuron_venv_pytorch/lib/python3.8/site-packages (from diffusers==0.14.0) (6.6.0)\n",
      "Requirement already satisfied: filelock in /opt/aws_neuron_venv_pytorch/lib/python3.8/site-packages (from diffusers==0.14.0) (3.12.0)\n",
      "Requirement already satisfied: huggingface-hub>=0.10.0 in /opt/aws_neuron_venv_pytorch/lib/python3.8/site-packages (from diffusers==0.14.0) (0.14.1)\n",
      "Requirement already satisfied: numpy in /opt/aws_neuron_venv_pytorch/lib/python3.8/site-packages (from diffusers==0.14.0) (1.21.6)\n",
      "Requirement already satisfied: regex!=2019.12.17 in /opt/aws_neuron_venv_pytorch/lib/python3.8/site-packages (from diffusers==0.14.0) (2023.5.5)\n",
      "Requirement already satisfied: requests in /opt/aws_neuron_venv_pytorch/lib/python3.8/site-packages (from diffusers==0.14.0) (2.30.0)\n",
      "Requirement already satisfied: Pillow in /opt/aws_neuron_venv_pytorch/lib/python3.8/site-packages (from diffusers==0.14.0) (9.5.0)\n",
      "Requirement already satisfied: fsspec in /opt/aws_neuron_venv_pytorch/lib/python3.8/site-packages (from huggingface-hub>=0.10.0->diffusers==0.14.0) (2023.4.0)\n",
      "Requirement already satisfied: tqdm>=4.42.1 in /opt/aws_neuron_venv_pytorch/lib/python3.8/site-packages (from huggingface-hub>=0.10.0->diffusers==0.14.0) (4.65.0)\n",
      "Requirement already satisfied: pyyaml>=5.1 in /opt/aws_neuron_venv_pytorch/lib/python3.8/site-packages (from huggingface-hub>=0.10.0->diffusers==0.14.0) (5.4.1)\n",
      "Requirement already satisfied: typing-extensions>=3.7.4.3 in /opt/aws_neuron_venv_pytorch/lib/python3.8/site-packages (from huggingface-hub>=0.10.0->diffusers==0.14.0) (4.5.0)\n",
      "Requirement already satisfied: packaging>=20.9 in /opt/aws_neuron_venv_pytorch/lib/python3.8/site-packages (from huggingface-hub>=0.10.0->diffusers==0.14.0) (21.3)\n",
      "Requirement already satisfied: zipp>=0.5 in /opt/aws_neuron_venv_pytorch/lib/python3.8/site-packages (from importlib-metadata->diffusers==0.14.0) (3.15.0)\n",
      "Requirement already satisfied: charset-normalizer<4,>=2 in /opt/aws_neuron_venv_pytorch/lib/python3.8/site-packages (from requests->diffusers==0.14.0) (3.1.0)\n",
      "Requirement already satisfied: idna<4,>=2.5 in /opt/aws_neuron_venv_pytorch/lib/python3.8/site-packages (from requests->diffusers==0.14.0) (3.4)\n",
      "Requirement already satisfied: urllib3<3,>=1.21.1 in /opt/aws_neuron_venv_pytorch/lib/python3.8/site-packages (from requests->diffusers==0.14.0) (1.26.15)\n",
      "Requirement already satisfied: certifi>=2017.4.17 in /opt/aws_neuron_venv_pytorch/lib/python3.8/site-packages (from requests->diffusers==0.14.0) (2022.12.7)\n",
      "Requirement already satisfied: pyparsing!=3.0.5,>=2.0.2 in /opt/aws_neuron_venv_pytorch/lib/python3.8/site-packages (from packaging>=20.9->huggingface-hub>=0.10.0->diffusers==0.14.0) (3.0.9)\n",
      "Installing collected packages: diffusers\n",
      "Successfully installed diffusers-0.14.0\n",
      "Looking in indexes: https://pypi.org/simple, https://pip.repos.neuron.amazonaws.com\n",
      "Collecting transformers==4.26.1\n",
      "  Downloading transformers-4.26.1-py3-none-any.whl (6.3 MB)\n",
      "\u001b[2K     \u001b[90m━━━━━━━━━━━━━━━━━━━━━━━━━━━━━━━━━━━━━━━━\u001b[0m \u001b[32m6.3/6.3 MB\u001b[0m \u001b[31m19.5 MB/s\u001b[0m eta \u001b[36m0:00:00\u001b[0m:00:01\u001b[0m00:01\u001b[0m\n",
      "\u001b[?25hRequirement already satisfied: filelock in /opt/aws_neuron_venv_pytorch/lib/python3.8/site-packages (from transformers==4.26.1) (3.12.0)\n",
      "Requirement already satisfied: huggingface-hub<1.0,>=0.11.0 in /opt/aws_neuron_venv_pytorch/lib/python3.8/site-packages (from transformers==4.26.1) (0.14.1)\n",
      "Requirement already satisfied: numpy>=1.17 in /opt/aws_neuron_venv_pytorch/lib/python3.8/site-packages (from transformers==4.26.1) (1.21.6)\n",
      "Requirement already satisfied: packaging>=20.0 in /opt/aws_neuron_venv_pytorch/lib/python3.8/site-packages (from transformers==4.26.1) (21.3)\n",
      "Requirement already satisfied: pyyaml>=5.1 in /opt/aws_neuron_venv_pytorch/lib/python3.8/site-packages (from transformers==4.26.1) (5.4.1)\n",
      "Requirement already satisfied: regex!=2019.12.17 in /opt/aws_neuron_venv_pytorch/lib/python3.8/site-packages (from transformers==4.26.1) (2023.5.5)\n",
      "Requirement already satisfied: requests in /opt/aws_neuron_venv_pytorch/lib/python3.8/site-packages (from transformers==4.26.1) (2.30.0)\n",
      "Requirement already satisfied: tokenizers!=0.11.3,<0.14,>=0.11.1 in /opt/aws_neuron_venv_pytorch/lib/python3.8/site-packages (from transformers==4.26.1) (0.13.3)\n",
      "Requirement already satisfied: tqdm>=4.27 in /opt/aws_neuron_venv_pytorch/lib/python3.8/site-packages (from transformers==4.26.1) (4.65.0)\n",
      "Requirement already satisfied: fsspec in /opt/aws_neuron_venv_pytorch/lib/python3.8/site-packages (from huggingface-hub<1.0,>=0.11.0->transformers==4.26.1) (2023.4.0)\n",
      "Requirement already satisfied: typing-extensions>=3.7.4.3 in /opt/aws_neuron_venv_pytorch/lib/python3.8/site-packages (from huggingface-hub<1.0,>=0.11.0->transformers==4.26.1) (4.5.0)\n",
      "Requirement already satisfied: pyparsing!=3.0.5,>=2.0.2 in /opt/aws_neuron_venv_pytorch/lib/python3.8/site-packages (from packaging>=20.0->transformers==4.26.1) (3.0.9)\n",
      "Requirement already satisfied: charset-normalizer<4,>=2 in /opt/aws_neuron_venv_pytorch/lib/python3.8/site-packages (from requests->transformers==4.26.1) (3.1.0)\n",
      "Requirement already satisfied: idna<4,>=2.5 in /opt/aws_neuron_venv_pytorch/lib/python3.8/site-packages (from requests->transformers==4.26.1) (3.4)\n",
      "Requirement already satisfied: urllib3<3,>=1.21.1 in /opt/aws_neuron_venv_pytorch/lib/python3.8/site-packages (from requests->transformers==4.26.1) (1.26.15)\n",
      "Requirement already satisfied: certifi>=2017.4.17 in /opt/aws_neuron_venv_pytorch/lib/python3.8/site-packages (from requests->transformers==4.26.1) (2022.12.7)\n",
      "Installing collected packages: transformers\n",
      "  Attempting uninstall: transformers\n",
      "    Found existing installation: transformers 4.28.1\n",
      "    Uninstalling transformers-4.28.1:\n",
      "      Successfully uninstalled transformers-4.28.1\n",
      "Successfully installed transformers-4.26.1\n",
      "Looking in indexes: https://pypi.org/simple, https://pip.repos.neuron.amazonaws.com\n",
      "Collecting accelerate==0.16.0\n",
      "  Downloading accelerate-0.16.0-py3-none-any.whl (199 kB)\n",
      "\u001b[2K     \u001b[90m━━━━━━━━━━━━━━━━━━━━━━━━━━━━━━━━━━━━━━\u001b[0m \u001b[32m199.7/199.7 kB\u001b[0m \u001b[31m23.9 MB/s\u001b[0m eta \u001b[36m0:00:00\u001b[0m\n",
      "\u001b[?25hRequirement already satisfied: numpy>=1.17 in /opt/aws_neuron_venv_pytorch/lib/python3.8/site-packages (from accelerate==0.16.0) (1.21.6)\n",
      "Requirement already satisfied: packaging>=20.0 in /opt/aws_neuron_venv_pytorch/lib/python3.8/site-packages (from accelerate==0.16.0) (21.3)\n",
      "Requirement already satisfied: psutil in /opt/aws_neuron_venv_pytorch/lib/python3.8/site-packages (from accelerate==0.16.0) (5.9.5)\n",
      "Requirement already satisfied: pyyaml in /opt/aws_neuron_venv_pytorch/lib/python3.8/site-packages (from accelerate==0.16.0) (5.4.1)\n",
      "Requirement already satisfied: torch>=1.4.0 in /opt/aws_neuron_venv_pytorch/lib/python3.8/site-packages (from accelerate==0.16.0) (1.13.1)\n",
      "Requirement already satisfied: pyparsing!=3.0.5,>=2.0.2 in /opt/aws_neuron_venv_pytorch/lib/python3.8/site-packages (from packaging>=20.0->accelerate==0.16.0) (3.0.9)\n",
      "Requirement already satisfied: typing-extensions in /opt/aws_neuron_venv_pytorch/lib/python3.8/site-packages (from torch>=1.4.0->accelerate==0.16.0) (4.5.0)\n",
      "Requirement already satisfied: nvidia-cuda-runtime-cu11==11.7.99 in /opt/aws_neuron_venv_pytorch/lib/python3.8/site-packages (from torch>=1.4.0->accelerate==0.16.0) (11.7.99)\n",
      "Requirement already satisfied: nvidia-cudnn-cu11==8.5.0.96 in /opt/aws_neuron_venv_pytorch/lib/python3.8/site-packages (from torch>=1.4.0->accelerate==0.16.0) (8.5.0.96)\n",
      "Requirement already satisfied: nvidia-cublas-cu11==11.10.3.66 in /opt/aws_neuron_venv_pytorch/lib/python3.8/site-packages (from torch>=1.4.0->accelerate==0.16.0) (11.10.3.66)\n",
      "Requirement already satisfied: nvidia-cuda-nvrtc-cu11==11.7.99 in /opt/aws_neuron_venv_pytorch/lib/python3.8/site-packages (from torch>=1.4.0->accelerate==0.16.0) (11.7.99)\n",
      "Requirement already satisfied: setuptools in /opt/aws_neuron_venv_pytorch/lib/python3.8/site-packages (from nvidia-cublas-cu11==11.10.3.66->torch>=1.4.0->accelerate==0.16.0) (67.7.2)\n",
      "Requirement already satisfied: wheel in /opt/aws_neuron_venv_pytorch/lib/python3.8/site-packages (from nvidia-cublas-cu11==11.10.3.66->torch>=1.4.0->accelerate==0.16.0) (0.40.0)\n",
      "Installing collected packages: accelerate\n",
      "Successfully installed accelerate-0.16.0\n"
     ]
    }
   ],
   "source": [
    "!pip install diffusers==0.14.0\n",
    "!pip install transformers==4.26.1\n",
    "!pip install accelerate==0.16.0"
   ]
  },
  {
   "cell_type": "code",
   "execution_count": null,
   "metadata": {},
   "outputs": [],
   "source": [
    "import os\n",
    "os.environ[\"NEURON_FUSE_SOFTMAX\"] = \"1\"\n",
    "\n",
    "import torch\n",
    "import torch.nn as nn\n",
    "import torch_neuronx\n",
    "import numpy as np\n",
    "\n",
    "from matplotlib import pyplot as plt\n",
    "from matplotlib import image as mpimg\n",
    "import time\n",
    "import copy\n",
    "from IPython.display import clear_output\n",
    "\n",
    "from diffusers import StableDiffusionPipeline, DPMSolverMultistepScheduler\n",
    "from diffusers.models.unet_2d_condition import UNet2DConditionOutput\n",
    "from diffusers.models.cross_attention import CrossAttention\n",
    "\n",
    "clear_output(wait=False)"
   ]
  },
  {
   "attachments": {},
   "cell_type": "markdown",
   "metadata": {},
   "source": [
    "**Define utility classes and functions**\n",
    "\n",
    "The following section defines some utility classes and functions. In particular, we define a double-wrapper for the UNet and another wrapper for the text encoder. These wrappers enable `torch_neuronx.trace` to trace the wrapped models for compilation with the Neuron compiler. In addition, the `get_attention_scores` utility function performs optimized attention score calculation and is used to replace the origianl `get_attention_scores` function in the `diffusers` package via a monkey patch (see the next code block under \"Compile UNet and save\" for usage)."
   ]
  },
  {
   "cell_type": "code",
   "execution_count": 6,
   "metadata": {},
   "outputs": [],
   "source": [
    "class UNetWrap(nn.Module):\n",
    "    def __init__(self, unet):\n",
    "        super().__init__()\n",
    "        self.unet = unet\n",
    "\n",
    "    def forward(self, sample, timestep, encoder_hidden_states, cross_attention_kwargs=None):\n",
    "        out_tuple = self.unet(sample, timestep, encoder_hidden_states, return_dict=False)\n",
    "        return out_tuple\n",
    "\n",
    "class NeuronUNet(nn.Module):\n",
    "    def __init__(self, unetwrap):\n",
    "        super().__init__()\n",
    "        self.unetwrap = unetwrap\n",
    "        self.config = unetwrap.unet.config\n",
    "        self.in_channels = unetwrap.unet.in_channels\n",
    "        self.device = unetwrap.unet.device\n",
    "\n",
    "    def forward(self, sample, timestep, encoder_hidden_states, cross_attention_kwargs=None):\n",
    "        sample = self.unetwrap(sample, timestep.bfloat16().expand((sample.shape[0],)), encoder_hidden_states)[0]\n",
    "        return UNet2DConditionOutput(sample=sample)\n",
    "\n",
    "class NeuronTextEncoder(nn.Module):\n",
    "    def __init__(self, text_encoder):\n",
    "        super().__init__()\n",
    "        self.neuron_text_encoder = text_encoder\n",
    "        self.config = text_encoder.config\n",
    "        self.dtype = text_encoder.dtype\n",
    "        self.device = text_encoder.device\n",
    "\n",
    "    def forward(self, emb, attention_mask = None):\n",
    "        return [self.neuron_text_encoder(emb)['last_hidden_state']]\n",
    "    \n",
    "\n",
    "# Optimized attention\n",
    "def get_attention_scores(self, query, key, attn_mask):       \n",
    "    dtype = query.dtype\n",
    "\n",
    "    if self.upcast_attention:\n",
    "        query = query.float()\n",
    "        key = key.float()\n",
    "\n",
    "    # Check for square matmuls\n",
    "    if(query.size() == key.size()):\n",
    "        attention_scores = custom_badbmm(\n",
    "            key,\n",
    "            query.transpose(-1, -2)\n",
    "        )\n",
    "\n",
    "        if self.upcast_softmax:\n",
    "            attention_scores = attention_scores.float()\n",
    "\n",
    "        attention_probs = torch.nn.functional.softmax(attention_scores, dim=1).permute(0,2,1)\n",
    "        attention_probs = attention_probs.to(dtype)\n",
    "\n",
    "    else:\n",
    "        attention_scores = custom_badbmm(\n",
    "            query,\n",
    "            key.transpose(-1, -2)\n",
    "        )\n",
    "\n",
    "        if self.upcast_softmax:\n",
    "            attention_scores = attention_scores.float()\n",
    "\n",
    "        attention_probs = torch.nn.functional.softmax(attention_scores, dim=-1)\n",
    "        attention_probs = attention_probs.to(dtype)\n",
    "        \n",
    "    return attention_probs\n",
    "\n",
    "def custom_badbmm(a, b):\n",
    "    bmm = torch.bmm(a, b)\n",
    "    scaled = bmm * 0.125\n",
    "    return scaled"
   ]
  },
  {
   "attachments": {},
   "cell_type": "markdown",
   "metadata": {},
   "source": [
    "**Compile the model into an optimized TorchScript and save the TorchScript**\n",
    "\n",
    "In the following section, we will compile parts of the Stable Diffusion pipeline for execution on Neuron. Note that this only needs to be done once: After you have compiled and saved the model by running the following section of code, you can reuse it any number of times without having to recompile. In particular, we will compile:\n",
    "1. The CLIP text encoder;\n",
    "2. The VAE decoder;\n",
    "3. The UNet, and\n",
    "4. The VAE_post_quant_conv\n",
    "These blocks are chosen because they represent the bulk of the compute in the pipeline, and performance benchmarking has shown that running them on Neuron yields significant performance benefit.\n",
    "\n",
    "Several points worth noting are:\n",
    "1. In order to save RAM (these compiles need lots of RAM!), before tracing each model, we make a deepcopy of the part of the pipeline (i.e. the UNet or the VAE decoder) that is to be traced, and then delete the pipeline object from memory with `del pipe`. This trick allows the compile to succeed on instance types with a smaller amount of RAM.\n",
    "2. When compiling each part of the pipeline, we need to pass `torch_neuronx.trace` sample input(s), When there are multiple inputs, they are passed together as a tuple. For details on how to use `torch_neuronx.trace`, please refer to our documentation here: https://awsdocs-neuron.readthedocs-hosted.com/en/latest/frameworks/torch/torch-neuronx/api-reference-guide/inference/api-torch-neuronx-trace.html\n",
    "3. Note that while compiling the UNet, we make use of the double-wrapper structure defined above. In addition, we also use the optimized `get_attention_scores` function to replace the original `get_attention_scores` function in the `CrossAttention` class."
   ]
  },
  {
   "cell_type": "code",
   "execution_count": 7,
   "metadata": {},
   "outputs": [
    {
     "data": {
      "application/vnd.jupyter.widget-view+json": {
       "model_id": "ba6466713706497dbfe8fcbaa4264528",
       "version_major": 2,
       "version_minor": 0
      },
      "text/plain": [
       "Downloading (…)ain/model_index.json:   0%|          | 0.00/545 [00:00<?, ?B/s]"
      ]
     },
     "metadata": {},
     "output_type": "display_data"
    },
    {
     "data": {
      "application/vnd.jupyter.widget-view+json": {
       "model_id": "78363c4b4bcd46e0ba0ed4ff51c48e69",
       "version_major": 2,
       "version_minor": 0
      },
      "text/plain": [
       "Fetching 13 files:   0%|          | 0/13 [00:00<?, ?it/s]"
      ]
     },
     "metadata": {},
     "output_type": "display_data"
    },
    {
     "data": {
      "application/vnd.jupyter.widget-view+json": {
       "model_id": "faf6765059d942a991ec5c21f3726205",
       "version_major": 2,
       "version_minor": 0
      },
      "text/plain": [
       "Downloading (…)cheduler_config.json:   0%|          | 0.00/346 [00:00<?, ?B/s]"
      ]
     },
     "metadata": {},
     "output_type": "display_data"
    },
    {
     "data": {
      "application/vnd.jupyter.widget-view+json": {
       "model_id": "0d6d56a28a0d48acba40e8a78368dad9",
       "version_major": 2,
       "version_minor": 0
      },
      "text/plain": [
       "Downloading (…)_encoder/config.json:   0%|          | 0.00/613 [00:00<?, ?B/s]"
      ]
     },
     "metadata": {},
     "output_type": "display_data"
    },
    {
     "data": {
      "application/vnd.jupyter.widget-view+json": {
       "model_id": "b14708db8d2e4aec8f9149b1904ab5e8",
       "version_major": 2,
       "version_minor": 0
      },
      "text/plain": [
       "Downloading (…)cial_tokens_map.json:   0%|          | 0.00/460 [00:00<?, ?B/s]"
      ]
     },
     "metadata": {},
     "output_type": "display_data"
    },
    {
     "data": {
      "application/vnd.jupyter.widget-view+json": {
       "model_id": "b7ab83f0cfb74c618ef901de3ec346ae",
       "version_major": 2,
       "version_minor": 0
      },
      "text/plain": [
       "Downloading (…)tokenizer/merges.txt:   0%|          | 0.00/525k [00:00<?, ?B/s]"
      ]
     },
     "metadata": {},
     "output_type": "display_data"
    },
    {
     "data": {
      "application/vnd.jupyter.widget-view+json": {
       "model_id": "d653697722a64a9f8f718d0f4cc54206",
       "version_major": 2,
       "version_minor": 0
      },
      "text/plain": [
       "Downloading pytorch_model.bin:   0%|          | 0.00/1.36G [00:00<?, ?B/s]"
      ]
     },
     "metadata": {},
     "output_type": "display_data"
    },
    {
     "data": {
      "application/vnd.jupyter.widget-view+json": {
       "model_id": "d5eab3ccdb854cf8ad9912d118204122",
       "version_major": 2,
       "version_minor": 0
      },
      "text/plain": [
       "Downloading (…)okenizer_config.json:   0%|          | 0.00/807 [00:00<?, ?B/s]"
      ]
     },
     "metadata": {},
     "output_type": "display_data"
    },
    {
     "data": {
      "application/vnd.jupyter.widget-view+json": {
       "model_id": "191acd62096447a18cd6596071876e67",
       "version_major": 2,
       "version_minor": 0
      },
      "text/plain": [
       "Downloading (…)rocessor_config.json:   0%|          | 0.00/342 [00:00<?, ?B/s]"
      ]
     },
     "metadata": {},
     "output_type": "display_data"
    },
    {
     "data": {
      "application/vnd.jupyter.widget-view+json": {
       "model_id": "024983b1ab434ed3882109a65f19d8f4",
       "version_major": 2,
       "version_minor": 0
      },
      "text/plain": [
       "Downloading (…)tokenizer/vocab.json:   0%|          | 0.00/1.06M [00:00<?, ?B/s]"
      ]
     },
     "metadata": {},
     "output_type": "display_data"
    },
    {
     "data": {
      "application/vnd.jupyter.widget-view+json": {
       "model_id": "7a44434bc86046079423953f5dc51ebd",
       "version_major": 2,
       "version_minor": 0
      },
      "text/plain": [
       "Downloading (…)1bc/unet/config.json:   0%|          | 0.00/911 [00:00<?, ?B/s]"
      ]
     },
     "metadata": {},
     "output_type": "display_data"
    },
    {
     "data": {
      "application/vnd.jupyter.widget-view+json": {
       "model_id": "000989d728714a8b9d2ed8f841c59921",
       "version_major": 2,
       "version_minor": 0
      },
      "text/plain": [
       "Downloading (…)on_pytorch_model.bin:   0%|          | 0.00/335M [00:00<?, ?B/s]"
      ]
     },
     "metadata": {},
     "output_type": "display_data"
    },
    {
     "data": {
      "application/vnd.jupyter.widget-view+json": {
       "model_id": "cd27c04667fa4839b56e6c3d3742552d",
       "version_major": 2,
       "version_minor": 0
      },
      "text/plain": [
       "Downloading (…)on_pytorch_model.bin:   0%|          | 0.00/3.46G [00:00<?, ?B/s]"
      ]
     },
     "metadata": {},
     "output_type": "display_data"
    },
    {
     "data": {
      "application/vnd.jupyter.widget-view+json": {
       "model_id": "d0fd4b849d5049aaa1b07a7e77cf8da0",
       "version_major": 2,
       "version_minor": 0
      },
      "text/plain": [
       "Downloading (…)71bc/vae/config.json:   0%|          | 0.00/553 [00:00<?, ?B/s]"
      ]
     },
     "metadata": {},
     "output_type": "display_data"
    },
    {
     "name": "stderr",
     "output_type": "stream",
     "text": [
      "/opt/aws_neuron_venv_pytorch/lib/python3.8/site-packages/transformers/models/clip/feature_extraction_clip.py:28: FutureWarning: The class CLIPFeatureExtractor is deprecated and will be removed in version 5 of Transformers. Please use CLIPImageProcessor instead.\n",
      "  warnings.warn(\n",
      "2023-05-15 08:48:33.000849: INFO ||NCC_WRAPPER||: No candidate found under /var/tmp/neuron-compile-cache/USER_neuroncc-2.6.0.19+3d819e565/MODULE_9881408231066750359.\n",
      "2023-05-15 08:48:33.000850: INFO ||NCC_WRAPPER||: Cache dir for the neff: /var/tmp/neuron-compile-cache/USER_neuroncc-2.6.0.19+3d819e565/MODULE_9881408231066750359/MODULE_0_SyncTensorsGraph.3_9881408231066750359_ip-10-0-12-88-263ba4d0-27522-5fbb78513d4dd/d5cde57f-73c6-437a-bc21-2e41992aaa89\n"
     ]
    },
    {
     "name": "stdout",
     "output_type": "stream",
     "text": [
      "......\n",
      "Compiler status PASS\n"
     ]
    },
    {
     "name": "stderr",
     "output_type": "stream",
     "text": [
      "2023-05-15 08:50:26.000153: INFO ||NCC_WRAPPER||: Exiting with a successfully compiled graph\n",
      "2023-05-15 08:50:26.000439: INFO ||NCC_WRAPPER||: No candidate found under /var/tmp/neuron-compile-cache/USER_neuroncc-2.6.0.19+3d819e565/MODULE_15222737409026858077.\n",
      "2023-05-15 08:50:26.000439: INFO ||NCC_WRAPPER||: Cache dir for the neff: /var/tmp/neuron-compile-cache/USER_neuroncc-2.6.0.19+3d819e565/MODULE_15222737409026858077/MODULE_1_SyncTensorsGraph.3_15222737409026858077_ip-10-0-12-88-8170552d-27522-5fbb78bc9d69d/8744791d-c1db-453f-823f-a473c767d41a\n"
     ]
    },
    {
     "name": "stdout",
     "output_type": "stream",
     "text": [
      ".\n",
      "Compiler status PASS\n"
     ]
    },
    {
     "name": "stderr",
     "output_type": "stream",
     "text": [
      "2023-05-15 08:50:27.000971: INFO ||NCC_WRAPPER||: Exiting with a successfully compiled graph\n",
      "2023-05-15 08:50:28.000034: INFO ||NCC_WRAPPER||: No candidate found under /var/tmp/neuron-compile-cache/USER_neuroncc-2.6.0.19+3d819e565/MODULE_2001128502624238161.\n",
      "2023-05-15 08:50:28.000034: INFO ||NCC_WRAPPER||: Cache dir for the neff: /var/tmp/neuron-compile-cache/USER_neuroncc-2.6.0.19+3d819e565/MODULE_2001128502624238161/MODULE_2_SyncTensorsGraph.3_2001128502624238161_ip-10-0-12-88-e63b9d02-27522-5fbb78be22ecf/064fd581-3c8d-4b1c-a66e-7bed7188234a\n"
     ]
    },
    {
     "name": "stdout",
     "output_type": "stream",
     "text": [
      ".\n",
      "Compiler status PASS\n"
     ]
    },
    {
     "name": "stderr",
     "output_type": "stream",
     "text": [
      "2023-05-15 08:50:29.000383: INFO ||NCC_WRAPPER||: Exiting with a successfully compiled graph\n",
      "2023-05-15 08:50:29.000432: INFO ||NCC_WRAPPER||: No candidate found under /var/tmp/neuron-compile-cache/USER_neuroncc-2.6.0.19+3d819e565/MODULE_5267591359482915374.\n",
      "2023-05-15 08:50:29.000432: INFO ||NCC_WRAPPER||: Cache dir for the neff: /var/tmp/neuron-compile-cache/USER_neuroncc-2.6.0.19+3d819e565/MODULE_5267591359482915374/MODULE_3_SyncTensorsGraph.3_5267591359482915374_ip-10-0-12-88-3c9e5ca6-27522-5fbb78bf78606/d4c038b6-8be1-4767-b00b-209db384a268\n"
     ]
    },
    {
     "name": "stdout",
     "output_type": "stream",
     "text": [
      ".\n",
      "Compiler status PASS\n"
     ]
    },
    {
     "name": "stderr",
     "output_type": "stream",
     "text": [
      "2023-05-15 08:50:30.000796: INFO ||NCC_WRAPPER||: Exiting with a successfully compiled graph\n",
      "2023-05-15 08:50:30.000854: INFO ||NCC_WRAPPER||: No candidate found under /var/tmp/neuron-compile-cache/USER_neuroncc-2.6.0.19+3d819e565/MODULE_9431411033709043858.\n",
      "2023-05-15 08:50:30.000854: INFO ||NCC_WRAPPER||: Cache dir for the neff: /var/tmp/neuron-compile-cache/USER_neuroncc-2.6.0.19+3d819e565/MODULE_9431411033709043858/MODULE_4_SyncTensorsGraph.3_9431411033709043858_ip-10-0-12-88-29b4a1ad-27522-5fbb78c0d3721/e43b3322-4ae1-4f2a-9d5d-8a256609c7f4\n"
     ]
    },
    {
     "name": "stdout",
     "output_type": "stream",
     "text": [
      ".\n",
      "Compiler status PASS\n"
     ]
    },
    {
     "name": "stderr",
     "output_type": "stream",
     "text": [
      "2023-05-15 08:50:32.000197: INFO ||NCC_WRAPPER||: Exiting with a successfully compiled graph\n",
      "2023-05-15 08:50:32.000264: INFO ||NCC_WRAPPER||: No candidate found under /var/tmp/neuron-compile-cache/USER_neuroncc-2.6.0.19+3d819e565/MODULE_7405993243230828746.\n",
      "2023-05-15 08:50:32.000264: INFO ||NCC_WRAPPER||: Cache dir for the neff: /var/tmp/neuron-compile-cache/USER_neuroncc-2.6.0.19+3d819e565/MODULE_7405993243230828746/MODULE_5_SyncTensorsGraph.3_7405993243230828746_ip-10-0-12-88-263ba4d0-27522-5fbb78c22bb5e/af45790b-3cd6-459d-b972-7acb782aac34\n"
     ]
    },
    {
     "name": "stdout",
     "output_type": "stream",
     "text": [
      ".\n",
      "Compiler status PASS\n"
     ]
    },
    {
     "name": "stderr",
     "output_type": "stream",
     "text": [
      "2023-05-15 08:50:33.000639: INFO ||NCC_WRAPPER||: Exiting with a successfully compiled graph\n",
      "2023-05-15 08:50:33.000699: INFO ||NCC_WRAPPER||: No candidate found under /var/tmp/neuron-compile-cache/USER_neuroncc-2.6.0.19+3d819e565/MODULE_2233705923350066717.\n",
      "2023-05-15 08:50:33.000699: INFO ||NCC_WRAPPER||: Cache dir for the neff: /var/tmp/neuron-compile-cache/USER_neuroncc-2.6.0.19+3d819e565/MODULE_2233705923350066717/MODULE_6_SyncTensorsGraph.3_2233705923350066717_ip-10-0-12-88-5abde681-27522-5fbb78c38a011/317fe474-d1ce-4736-9657-7dd04e9e9f5f\n"
     ]
    },
    {
     "name": "stdout",
     "output_type": "stream",
     "text": [
      ".\n",
      "Compiler status PASS\n"
     ]
    },
    {
     "name": "stderr",
     "output_type": "stream",
     "text": [
      "2023-05-15 08:50:35.000073: INFO ||NCC_WRAPPER||: Exiting with a successfully compiled graph\n",
      "2023-05-15 08:50:35.000123: INFO ||NCC_WRAPPER||: No candidate found under /var/tmp/neuron-compile-cache/USER_neuroncc-2.6.0.19+3d819e565/MODULE_17947247450431439813.\n",
      "2023-05-15 08:50:35.000123: INFO ||NCC_WRAPPER||: Cache dir for the neff: /var/tmp/neuron-compile-cache/USER_neuroncc-2.6.0.19+3d819e565/MODULE_17947247450431439813/MODULE_7_SyncTensorsGraph.3_17947247450431439813_ip-10-0-12-88-263ba4d0-27522-5fbb78c4e574d/db5e394f-3e06-4cb1-b992-1f1ea614c722\n"
     ]
    },
    {
     "name": "stdout",
     "output_type": "stream",
     "text": [
      ".\n",
      "Compiler status PASS\n"
     ]
    },
    {
     "name": "stderr",
     "output_type": "stream",
     "text": [
      "2023-05-15 08:50:36.000456: INFO ||NCC_WRAPPER||: Exiting with a successfully compiled graph\n"
     ]
    },
    {
     "data": {
      "application/vnd.jupyter.widget-view+json": {
       "model_id": "0f1918ca26a34b1e85fd320070e20892",
       "version_major": 2,
       "version_minor": 0
      },
      "text/plain": [
       "Fetching 13 files:   0%|          | 0/13 [00:00<?, ?it/s]"
      ]
     },
     "metadata": {},
     "output_type": "display_data"
    },
    {
     "name": "stderr",
     "output_type": "stream",
     "text": [
      "2023-05-15 08:51:37.000788: INFO ||NCC_WRAPPER||: No candidate found under /var/tmp/neuron-compile-cache/USER_neuroncc-2.6.0.19+3d819e565/MODULE_16742966422562565976.\n",
      "2023-05-15 08:51:37.000788: INFO ||NCC_WRAPPER||: Cache dir for the neff: /var/tmp/neuron-compile-cache/USER_neuroncc-2.6.0.19+3d819e565/MODULE_16742966422562565976/MODULE_8_SyncTensorsGraph.3_16742966422562565976_ip-10-0-12-88-5e625b24-27522-5fbb7900a8bba/3766610e-8be7-458d-8312-631ac8c64bd4\n"
     ]
    },
    {
     "name": "stdout",
     "output_type": "stream",
     "text": [
      ".\n",
      "Compiler status PASS\n"
     ]
    },
    {
     "name": "stderr",
     "output_type": "stream",
     "text": [
      "2023-05-15 08:51:39.000120: INFO ||NCC_WRAPPER||: Exiting with a successfully compiled graph\n",
      "2023-05-15 08:51:39.000184: INFO ||NCC_WRAPPER||: No candidate found under /var/tmp/neuron-compile-cache/USER_neuroncc-2.6.0.19+3d819e565/MODULE_3000832628918217716.\n",
      "2023-05-15 08:51:39.000184: INFO ||NCC_WRAPPER||: Cache dir for the neff: /var/tmp/neuron-compile-cache/USER_neuroncc-2.6.0.19+3d819e565/MODULE_3000832628918217716/MODULE_9_SyncTensorsGraph.3_3000832628918217716_ip-10-0-12-88-2083a05e-27522-5fbb7901fd813/b2309b26-7615-48f6-9c69-bf7cffdf6bca\n"
     ]
    },
    {
     "name": "stdout",
     "output_type": "stream",
     "text": [
      ".\n",
      "Compiler status PASS\n"
     ]
    },
    {
     "name": "stderr",
     "output_type": "stream",
     "text": [
      "2023-05-15 08:51:40.000649: INFO ||NCC_WRAPPER||: Exiting with a successfully compiled graph\n",
      "2023-05-15 08:51:40.000710: INFO ||NCC_WRAPPER||: No candidate found under /var/tmp/neuron-compile-cache/USER_neuroncc-2.6.0.19+3d819e565/MODULE_8520921028213856602.\n",
      "2023-05-15 08:51:40.000710: INFO ||NCC_WRAPPER||: Cache dir for the neff: /var/tmp/neuron-compile-cache/USER_neuroncc-2.6.0.19+3d819e565/MODULE_8520921028213856602/MODULE_10_SyncTensorsGraph.3_8520921028213856602_ip-10-0-12-88-8170552d-27522-5fbb790372113/e28d955c-88dd-4b59-bc79-93fc2cb9b1b6\n"
     ]
    },
    {
     "name": "stdout",
     "output_type": "stream",
     "text": [
      ".\n",
      "Compiler status PASS\n"
     ]
    },
    {
     "name": "stderr",
     "output_type": "stream",
     "text": [
      "2023-05-15 08:51:42.000066: INFO ||NCC_WRAPPER||: Exiting with a successfully compiled graph\n",
      "2023-05-15 08:51:42.000275: INFO ||NCC_WRAPPER||: No candidate found under /var/tmp/neuron-compile-cache/USER_neuroncc-2.6.0.19+3d819e565/MODULE_11063935957979952051.\n",
      "2023-05-15 08:51:42.000275: INFO ||NCC_WRAPPER||: Cache dir for the neff: /var/tmp/neuron-compile-cache/USER_neuroncc-2.6.0.19+3d819e565/MODULE_11063935957979952051/MODULE_11_SyncTensorsGraph.3_11063935957979952051_ip-10-0-12-88-76ae459c-27522-5fbb7904f0572/93890964-2b03-444b-a7db-ffb69f79034c\n"
     ]
    },
    {
     "name": "stdout",
     "output_type": "stream",
     "text": [
      ".\n",
      "Compiler status PASS\n"
     ]
    },
    {
     "name": "stderr",
     "output_type": "stream",
     "text": [
      "2023-05-15 08:51:43.000360: INFO ||NCC_WRAPPER||: Exiting with a successfully compiled graph\n",
      "2023-05-15 08:51:43.000417: INFO ||NCC_WRAPPER||: No candidate found under /var/tmp/neuron-compile-cache/USER_neuroncc-2.6.0.19+3d819e565/MODULE_7304498461582756225.\n",
      "2023-05-15 08:51:43.000418: INFO ||NCC_WRAPPER||: Cache dir for the neff: /var/tmp/neuron-compile-cache/USER_neuroncc-2.6.0.19+3d819e565/MODULE_7304498461582756225/MODULE_12_SyncTensorsGraph.3_7304498461582756225_ip-10-0-12-88-6edcb773-27522-5fbb790606fc2/46e2002a-2df4-409f-86d0-9b5dc500322e\n"
     ]
    },
    {
     "name": "stdout",
     "output_type": "stream",
     "text": [
      ".\n",
      "Compiler status PASS\n"
     ]
    },
    {
     "name": "stderr",
     "output_type": "stream",
     "text": [
      "2023-05-15 08:51:44.000831: INFO ||NCC_WRAPPER||: Exiting with a successfully compiled graph\n",
      "2023-05-15 08:51:44.000883: INFO ||NCC_WRAPPER||: No candidate found under /var/tmp/neuron-compile-cache/USER_neuroncc-2.6.0.19+3d819e565/MODULE_12464946925814871524.\n",
      "2023-05-15 08:51:44.000883: INFO ||NCC_WRAPPER||: Cache dir for the neff: /var/tmp/neuron-compile-cache/USER_neuroncc-2.6.0.19+3d819e565/MODULE_12464946925814871524/MODULE_13_SyncTensorsGraph.3_12464946925814871524_ip-10-0-12-88-40b888b2-27522-5fbb79076cc60/e5957a9a-09ac-48fa-a58f-29d6ed6873a0\n"
     ]
    },
    {
     "name": "stdout",
     "output_type": "stream",
     "text": [
      ".\n",
      "Compiler status PASS\n"
     ]
    },
    {
     "name": "stderr",
     "output_type": "stream",
     "text": [
      "2023-05-15 08:51:46.000190: INFO ||NCC_WRAPPER||: Exiting with a successfully compiled graph\n",
      "2023-05-15 08:51:46.000244: INFO ||NCC_WRAPPER||: No candidate found under /var/tmp/neuron-compile-cache/USER_neuroncc-2.6.0.19+3d819e565/MODULE_16575479390872490604.\n",
      "2023-05-15 08:51:46.000244: INFO ||NCC_WRAPPER||: Cache dir for the neff: /var/tmp/neuron-compile-cache/USER_neuroncc-2.6.0.19+3d819e565/MODULE_16575479390872490604/MODULE_14_SyncTensorsGraph.3_16575479390872490604_ip-10-0-12-88-59a7b07a-27522-5fbb7908b900c/b5bc0b00-fa07-42c9-9554-540818744869\n"
     ]
    },
    {
     "name": "stdout",
     "output_type": "stream",
     "text": [
      ".\n",
      "Compiler status PASS\n"
     ]
    },
    {
     "name": "stderr",
     "output_type": "stream",
     "text": [
      "2023-05-15 08:51:47.000600: INFO ||NCC_WRAPPER||: Exiting with a successfully compiled graph\n",
      "2023-05-15 08:51:47.000677: INFO ||NCC_WRAPPER||: No candidate found under /var/tmp/neuron-compile-cache/USER_neuroncc-2.6.0.19+3d819e565/MODULE_6109443216998581109.\n",
      "2023-05-15 08:51:47.000678: INFO ||NCC_WRAPPER||: Cache dir for the neff: /var/tmp/neuron-compile-cache/USER_neuroncc-2.6.0.19+3d819e565/MODULE_6109443216998581109/MODULE_15_SyncTensorsGraph.3_6109443216998581109_ip-10-0-12-88-6edcb773-27522-5fbb790a1702e/ecd97ded-e134-4b95-b95a-b9ae0e371ebb\n"
     ]
    },
    {
     "name": "stdout",
     "output_type": "stream",
     "text": [
      ".\n",
      "Compiler status PASS\n"
     ]
    },
    {
     "name": "stderr",
     "output_type": "stream",
     "text": [
      "2023-05-15 08:51:48.000813: INFO ||NCC_WRAPPER||: Exiting with a successfully compiled graph\n",
      "2023-05-15 08:51:48.000864: INFO ||NCC_WRAPPER||: No candidate found under /var/tmp/neuron-compile-cache/USER_neuroncc-2.6.0.19+3d819e565/MODULE_9779078289296129209.\n",
      "2023-05-15 08:51:48.000864: INFO ||NCC_WRAPPER||: Cache dir for the neff: /var/tmp/neuron-compile-cache/USER_neuroncc-2.6.0.19+3d819e565/MODULE_9779078289296129209/MODULE_16_SyncTensorsGraph.3_9779078289296129209_ip-10-0-12-88-3e070961-27522-5fbb790b38db9/4223608a-3b09-47cc-adcc-2f344d070f2a\n"
     ]
    },
    {
     "name": "stdout",
     "output_type": "stream",
     "text": [
      ".\n",
      "Compiler status PASS\n"
     ]
    },
    {
     "name": "stderr",
     "output_type": "stream",
     "text": [
      "2023-05-15 08:51:50.000374: INFO ||NCC_WRAPPER||: Exiting with a successfully compiled graph\n",
      "2023-05-15 08:51:50.000425: INFO ||NCC_WRAPPER||: No candidate found under /var/tmp/neuron-compile-cache/USER_neuroncc-2.6.0.19+3d819e565/MODULE_4524372805175381333.\n",
      "2023-05-15 08:51:50.000425: INFO ||NCC_WRAPPER||: Cache dir for the neff: /var/tmp/neuron-compile-cache/USER_neuroncc-2.6.0.19+3d819e565/MODULE_4524372805175381333/MODULE_17_SyncTensorsGraph.3_4524372805175381333_ip-10-0-12-88-6edcb773-27522-5fbb790cb5eae/9657d3bd-590c-43ea-b6ea-007525f4cab4\n"
     ]
    },
    {
     "name": "stdout",
     "output_type": "stream",
     "text": [
      ".\n",
      "Compiler status PASS\n"
     ]
    },
    {
     "name": "stderr",
     "output_type": "stream",
     "text": [
      "2023-05-15 08:51:51.000747: INFO ||NCC_WRAPPER||: Exiting with a successfully compiled graph\n",
      "2023-05-15 08:51:51.000799: INFO ||NCC_WRAPPER||: No candidate found under /var/tmp/neuron-compile-cache/USER_neuroncc-2.6.0.19+3d819e565/MODULE_10196590574106467153.\n",
      "2023-05-15 08:51:51.000799: INFO ||NCC_WRAPPER||: Cache dir for the neff: /var/tmp/neuron-compile-cache/USER_neuroncc-2.6.0.19+3d819e565/MODULE_10196590574106467153/MODULE_18_SyncTensorsGraph.3_10196590574106467153_ip-10-0-12-88-67fe2ebe-27522-5fbb790e054c7/bf7dd915-78b1-43cb-87d2-4c8eab3d2698\n"
     ]
    },
    {
     "name": "stdout",
     "output_type": "stream",
     "text": [
      ".\n",
      "Compiler status PASS\n"
     ]
    },
    {
     "name": "stderr",
     "output_type": "stream",
     "text": [
      "2023-05-15 08:51:53.000115: INFO ||NCC_WRAPPER||: Exiting with a successfully compiled graph\n",
      "2023-05-15 08:51:53.000189: INFO ||NCC_WRAPPER||: No candidate found under /var/tmp/neuron-compile-cache/USER_neuroncc-2.6.0.19+3d819e565/MODULE_12505474362110161166.\n",
      "2023-05-15 08:51:53.000189: INFO ||NCC_WRAPPER||: Cache dir for the neff: /var/tmp/neuron-compile-cache/USER_neuroncc-2.6.0.19+3d819e565/MODULE_12505474362110161166/MODULE_19_SyncTensorsGraph.3_12505474362110161166_ip-10-0-12-88-40b888b2-27522-5fbb790f58aa0/39878063-2a04-49c4-b3f7-28d10342256e\n"
     ]
    },
    {
     "name": "stdout",
     "output_type": "stream",
     "text": [
      ".\n",
      "Compiler status PASS\n"
     ]
    },
    {
     "name": "stderr",
     "output_type": "stream",
     "text": [
      "2023-05-15 08:51:54.000359: INFO ||NCC_WRAPPER||: Exiting with a successfully compiled graph\n",
      "2023-05-15 08:51:54.000467: INFO ||NCC_WRAPPER||: No candidate found under /var/tmp/neuron-compile-cache/USER_neuroncc-2.6.0.19+3d819e565/MODULE_16748830800972902291.\n",
      "2023-05-15 08:51:54.000467: INFO ||NCC_WRAPPER||: Cache dir for the neff: /var/tmp/neuron-compile-cache/USER_neuroncc-2.6.0.19+3d819e565/MODULE_16748830800972902291/MODULE_20_SyncTensorsGraph.3_16748830800972902291_ip-10-0-12-88-59a7b07a-27522-5fbb79109051e/c38dbf9e-9130-4d1e-a68e-d05803e6a811\n"
     ]
    },
    {
     "name": "stdout",
     "output_type": "stream",
     "text": [
      ".\n",
      "Compiler status PASS\n"
     ]
    },
    {
     "name": "stderr",
     "output_type": "stream",
     "text": [
      "2023-05-15 08:51:55.000631: INFO ||NCC_WRAPPER||: Exiting with a successfully compiled graph\n",
      "2023-05-15 08:51:55.000680: INFO ||NCC_WRAPPER||: No candidate found under /var/tmp/neuron-compile-cache/USER_neuroncc-2.6.0.19+3d819e565/MODULE_3179773123877914359.\n",
      "2023-05-15 08:51:55.000681: INFO ||NCC_WRAPPER||: Cache dir for the neff: /var/tmp/neuron-compile-cache/USER_neuroncc-2.6.0.19+3d819e565/MODULE_3179773123877914359/MODULE_21_SyncTensorsGraph.3_3179773123877914359_ip-10-0-12-88-bdffc07-27522-5fbb7911b9200/1ff5ede0-2436-4f33-a6ca-3c0bcdb3abfc\n"
     ]
    },
    {
     "name": "stdout",
     "output_type": "stream",
     "text": [
      ".\n",
      "Compiler status PASS\n"
     ]
    },
    {
     "name": "stderr",
     "output_type": "stream",
     "text": [
      "2023-05-15 08:51:56.000991: INFO ||NCC_WRAPPER||: Exiting with a successfully compiled graph\n"
     ]
    },
    {
     "data": {
      "application/vnd.jupyter.widget-view+json": {
       "model_id": "257ee624579d4bf3bdcbc5f5a3f9be49",
       "version_major": 2,
       "version_minor": 0
      },
      "text/plain": [
       "Fetching 13 files:   0%|          | 0/13 [00:00<?, ?it/s]"
      ]
     },
     "metadata": {},
     "output_type": "display_data"
    },
    {
     "name": "stderr",
     "output_type": "stream",
     "text": [
      "2023-05-15 08:56:47.000585: INFO ||NCC_WRAPPER||: No candidate found under /var/tmp/neuron-compile-cache/USER_neuroncc-2.6.0.19+3d819e565/MODULE_6806146934773680194.\n",
      "2023-05-15 08:56:47.000585: INFO ||NCC_WRAPPER||: Cache dir for the neff: /var/tmp/neuron-compile-cache/USER_neuroncc-2.6.0.19+3d819e565/MODULE_6806146934773680194/MODULE_22_SyncTensorsGraph.3_6806146934773680194_ip-10-0-12-88-439ef6a8-27522-5fbb7a281abcc/b17f2c27-7c56-40f3-8304-4fe1a5fc3a5d\n"
     ]
    },
    {
     "name": "stdout",
     "output_type": "stream",
     "text": [
      ".\n",
      "Compiler status PASS\n"
     ]
    },
    {
     "name": "stderr",
     "output_type": "stream",
     "text": [
      "2023-05-15 08:56:48.000976: INFO ||NCC_WRAPPER||: Exiting with a successfully compiled graph\n",
      "2023-05-15 08:56:49.000026: INFO ||NCC_WRAPPER||: No candidate found under /var/tmp/neuron-compile-cache/USER_neuroncc-2.6.0.19+3d819e565/MODULE_9373580158192148306.\n",
      "2023-05-15 08:56:49.000026: INFO ||NCC_WRAPPER||: Cache dir for the neff: /var/tmp/neuron-compile-cache/USER_neuroncc-2.6.0.19+3d819e565/MODULE_9373580158192148306/MODULE_23_SyncTensorsGraph.3_9373580158192148306_ip-10-0-12-88-4e1e5b85-27522-5fbb7a297ab8a/bb93c0c0-1903-434e-a550-9ed6f2ad1f4e\n"
     ]
    },
    {
     "name": "stdout",
     "output_type": "stream",
     "text": [
      ".\n",
      "Compiler status PASS\n"
     ]
    },
    {
     "name": "stderr",
     "output_type": "stream",
     "text": [
      "2023-05-15 08:56:50.000315: INFO ||NCC_WRAPPER||: Exiting with a successfully compiled graph\n",
      "2023-05-15 08:56:50.000366: INFO ||NCC_WRAPPER||: No candidate found under /var/tmp/neuron-compile-cache/USER_neuroncc-2.6.0.19+3d819e565/MODULE_18135169176368627705.\n",
      "2023-05-15 08:56:50.000366: INFO ||NCC_WRAPPER||: Cache dir for the neff: /var/tmp/neuron-compile-cache/USER_neuroncc-2.6.0.19+3d819e565/MODULE_18135169176368627705/MODULE_24_SyncTensorsGraph.3_18135169176368627705_ip-10-0-12-88-e0a3b07-27522-5fbb7a2ac1a71/ab469a50-d7d4-4280-8f93-f875e285ae6c\n"
     ]
    },
    {
     "name": "stdout",
     "output_type": "stream",
     "text": [
      ".\n",
      "Compiler status PASS\n"
     ]
    },
    {
     "name": "stderr",
     "output_type": "stream",
     "text": [
      "2023-05-15 08:56:51.000757: INFO ||NCC_WRAPPER||: Exiting with a successfully compiled graph\n",
      "2023-05-15 08:56:51.000810: INFO ||NCC_WRAPPER||: No candidate found under /var/tmp/neuron-compile-cache/USER_neuroncc-2.6.0.19+3d819e565/MODULE_13521822792824472566.\n",
      "2023-05-15 08:56:51.000810: INFO ||NCC_WRAPPER||: Cache dir for the neff: /var/tmp/neuron-compile-cache/USER_neuroncc-2.6.0.19+3d819e565/MODULE_13521822792824472566/MODULE_25_SyncTensorsGraph.3_13521822792824472566_ip-10-0-12-88-e0a3b07-27522-5fbb7a2c223f0/efd6f3ab-5d3a-479b-b754-9c9b7f249b84\n"
     ]
    },
    {
     "name": "stdout",
     "output_type": "stream",
     "text": [
      ".\n",
      "Compiler status PASS\n"
     ]
    },
    {
     "name": "stderr",
     "output_type": "stream",
     "text": [
      "2023-05-15 08:56:53.000061: INFO ||NCC_WRAPPER||: Exiting with a successfully compiled graph\n",
      "2023-05-15 08:56:53.000110: INFO ||NCC_WRAPPER||: No candidate found under /var/tmp/neuron-compile-cache/USER_neuroncc-2.6.0.19+3d819e565/MODULE_11825499194077479982.\n",
      "2023-05-15 08:56:53.000110: INFO ||NCC_WRAPPER||: Cache dir for the neff: /var/tmp/neuron-compile-cache/USER_neuroncc-2.6.0.19+3d819e565/MODULE_11825499194077479982/MODULE_26_SyncTensorsGraph.3_11825499194077479982_ip-10-0-12-88-a97132a6-27522-5fbb7a2d5f9dc/3ab4b120-eded-45bf-a48f-c5eddbc52551\n"
     ]
    },
    {
     "name": "stdout",
     "output_type": "stream",
     "text": [
      ".\n",
      "Compiler status PASS\n"
     ]
    },
    {
     "name": "stderr",
     "output_type": "stream",
     "text": [
      "2023-05-15 08:56:54.000497: INFO ||NCC_WRAPPER||: Exiting with a successfully compiled graph\n",
      "2023-05-15 08:56:54.000557: INFO ||NCC_WRAPPER||: No candidate found under /var/tmp/neuron-compile-cache/USER_neuroncc-2.6.0.19+3d819e565/MODULE_6316918936295126841.\n",
      "2023-05-15 08:56:54.000557: INFO ||NCC_WRAPPER||: Cache dir for the neff: /var/tmp/neuron-compile-cache/USER_neuroncc-2.6.0.19+3d819e565/MODULE_6316918936295126841/MODULE_27_SyncTensorsGraph.3_6316918936295126841_ip-10-0-12-88-50b41934-27522-5fbb7a2ec0da4/0a90c39f-be55-4dd3-8d8b-ebc05c9fdabf\n"
     ]
    },
    {
     "name": "stdout",
     "output_type": "stream",
     "text": [
      ".\n",
      "Compiler status PASS\n"
     ]
    },
    {
     "name": "stderr",
     "output_type": "stream",
     "text": [
      "2023-05-15 08:56:56.000048: INFO ||NCC_WRAPPER||: Exiting with a successfully compiled graph\n",
      "2023-05-15 08:56:56.000109: INFO ||NCC_WRAPPER||: No candidate found under /var/tmp/neuron-compile-cache/USER_neuroncc-2.6.0.19+3d819e565/MODULE_5556431330006948636.\n",
      "2023-05-15 08:56:56.000109: INFO ||NCC_WRAPPER||: Cache dir for the neff: /var/tmp/neuron-compile-cache/USER_neuroncc-2.6.0.19+3d819e565/MODULE_5556431330006948636/MODULE_28_SyncTensorsGraph.3_5556431330006948636_ip-10-0-12-88-fc71a07f-27522-5fbb7a303bda9/7cae0f2f-0935-4fd0-97c1-112ed3afee14\n"
     ]
    },
    {
     "name": "stdout",
     "output_type": "stream",
     "text": [
      ".\n",
      "Compiler status PASS\n"
     ]
    },
    {
     "name": "stderr",
     "output_type": "stream",
     "text": [
      "2023-05-15 08:56:57.000486: INFO ||NCC_WRAPPER||: Exiting with a successfully compiled graph\n",
      "2023-05-15 08:56:57.000540: INFO ||NCC_WRAPPER||: No candidate found under /var/tmp/neuron-compile-cache/USER_neuroncc-2.6.0.19+3d819e565/MODULE_1609097844783540900.\n",
      "2023-05-15 08:56:57.000540: INFO ||NCC_WRAPPER||: Cache dir for the neff: /var/tmp/neuron-compile-cache/USER_neuroncc-2.6.0.19+3d819e565/MODULE_1609097844783540900/MODULE_29_SyncTensorsGraph.3_1609097844783540900_ip-10-0-12-88-439ef6a8-27522-5fbb7a3199285/0463c9e5-f4c1-4fd9-a123-8c8dcbc14092\n"
     ]
    },
    {
     "name": "stdout",
     "output_type": "stream",
     "text": [
      ".\n",
      "Compiler status PASS\n"
     ]
    },
    {
     "name": "stderr",
     "output_type": "stream",
     "text": [
      "2023-05-15 08:56:58.000985: INFO ||NCC_WRAPPER||: Exiting with a successfully compiled graph\n",
      "2023-05-15 08:56:59.000034: INFO ||NCC_WRAPPER||: No candidate found under /var/tmp/neuron-compile-cache/USER_neuroncc-2.6.0.19+3d819e565/MODULE_14268567029466581421.\n",
      "2023-05-15 08:56:59.000034: INFO ||NCC_WRAPPER||: Cache dir for the neff: /var/tmp/neuron-compile-cache/USER_neuroncc-2.6.0.19+3d819e565/MODULE_14268567029466581421/MODULE_30_SyncTensorsGraph.3_14268567029466581421_ip-10-0-12-88-984ce1a0-27522-5fbb7a3305f63/d3232c46-8521-4c69-a9a7-9b08a8d51f6a\n"
     ]
    },
    {
     "name": "stdout",
     "output_type": "stream",
     "text": [
      ".\n",
      "Compiler status PASS\n"
     ]
    },
    {
     "name": "stderr",
     "output_type": "stream",
     "text": [
      "2023-05-15 08:57:00.000281: INFO ||NCC_WRAPPER||: Exiting with a successfully compiled graph\n",
      "2023-05-15 08:57:00.000335: INFO ||NCC_WRAPPER||: No candidate found under /var/tmp/neuron-compile-cache/USER_neuroncc-2.6.0.19+3d819e565/MODULE_5186322617467938292.\n",
      "2023-05-15 08:57:00.000335: INFO ||NCC_WRAPPER||: Cache dir for the neff: /var/tmp/neuron-compile-cache/USER_neuroncc-2.6.0.19+3d819e565/MODULE_5186322617467938292/MODULE_31_SyncTensorsGraph.3_5186322617467938292_ip-10-0-12-88-50b41934-27522-5fbb7a3443889/dce83a48-5fd2-4bb6-a3fb-85e6c601390a\n"
     ]
    },
    {
     "name": "stdout",
     "output_type": "stream",
     "text": [
      ".\n",
      "Compiler status PASS\n"
     ]
    },
    {
     "name": "stderr",
     "output_type": "stream",
     "text": [
      "2023-05-15 08:57:01.000745: INFO ||NCC_WRAPPER||: Exiting with a successfully compiled graph\n",
      "2023-05-15 08:57:01.000860: INFO ||NCC_WRAPPER||: No candidate found under /var/tmp/neuron-compile-cache/USER_neuroncc-2.6.0.19+3d819e565/MODULE_10406361196717440061.\n",
      "2023-05-15 08:57:01.000861: INFO ||NCC_WRAPPER||: Cache dir for the neff: /var/tmp/neuron-compile-cache/USER_neuroncc-2.6.0.19+3d819e565/MODULE_10406361196717440061/MODULE_32_SyncTensorsGraph.3_10406361196717440061_ip-10-0-12-88-a97132a6-27522-5fbb7a35b7ce9/97b3cc9a-7548-4f56-a792-82399272b560\n"
     ]
    },
    {
     "name": "stdout",
     "output_type": "stream",
     "text": [
      ".\n",
      "Compiler status PASS\n"
     ]
    },
    {
     "name": "stderr",
     "output_type": "stream",
     "text": [
      "2023-05-15 08:57:03.000064: INFO ||NCC_WRAPPER||: Exiting with a successfully compiled graph\n",
      "2023-05-15 08:57:03.000156: INFO ||NCC_WRAPPER||: No candidate found under /var/tmp/neuron-compile-cache/USER_neuroncc-2.6.0.19+3d819e565/MODULE_9271539149640054647.\n",
      "2023-05-15 08:57:03.000157: INFO ||NCC_WRAPPER||: Cache dir for the neff: /var/tmp/neuron-compile-cache/USER_neuroncc-2.6.0.19+3d819e565/MODULE_9271539149640054647/MODULE_33_SyncTensorsGraph.3_9271539149640054647_ip-10-0-12-88-f28eeafe-27522-5fbb7a36f41cd/d73536ef-cbda-41b5-9191-3e8fb3f2e3fb\n"
     ]
    },
    {
     "name": "stdout",
     "output_type": "stream",
     "text": [
      ".\n",
      "Compiler status PASS\n"
     ]
    },
    {
     "name": "stderr",
     "output_type": "stream",
     "text": [
      "2023-05-15 08:57:04.000615: INFO ||NCC_WRAPPER||: Exiting with a successfully compiled graph\n",
      "2023-05-15 08:57:04.000666: INFO ||NCC_WRAPPER||: No candidate found under /var/tmp/neuron-compile-cache/USER_neuroncc-2.6.0.19+3d819e565/MODULE_1743973762225908428.\n",
      "2023-05-15 08:57:04.000666: INFO ||NCC_WRAPPER||: Cache dir for the neff: /var/tmp/neuron-compile-cache/USER_neuroncc-2.6.0.19+3d819e565/MODULE_1743973762225908428/MODULE_34_SyncTensorsGraph.3_1743973762225908428_ip-10-0-12-88-bdffc07-27522-5fbb7a3864f73/e969ae7b-2a99-49cf-b90b-cc15f1c50d4a\n"
     ]
    },
    {
     "name": "stdout",
     "output_type": "stream",
     "text": [
      ".\n",
      "Compiler status PASS\n"
     ]
    },
    {
     "name": "stderr",
     "output_type": "stream",
     "text": [
      "2023-05-15 08:57:05.000888: INFO ||NCC_WRAPPER||: Exiting with a successfully compiled graph\n",
      "2023-05-15 08:57:05.000956: INFO ||NCC_WRAPPER||: No candidate found under /var/tmp/neuron-compile-cache/USER_neuroncc-2.6.0.19+3d819e565/MODULE_8150574371250141838.\n",
      "2023-05-15 08:57:05.000956: INFO ||NCC_WRAPPER||: Cache dir for the neff: /var/tmp/neuron-compile-cache/USER_neuroncc-2.6.0.19+3d819e565/MODULE_8150574371250141838/MODULE_35_SyncTensorsGraph.3_8150574371250141838_ip-10-0-12-88-de8a7b14-27522-5fbb7a399febe/304824db-34f1-4457-a971-2b2b8599b4eb\n"
     ]
    },
    {
     "name": "stdout",
     "output_type": "stream",
     "text": [
      ".\n",
      "Compiler status PASS\n"
     ]
    },
    {
     "name": "stderr",
     "output_type": "stream",
     "text": [
      "2023-05-15 08:57:07.000199: INFO ||NCC_WRAPPER||: Exiting with a successfully compiled graph\n",
      "2023-05-15 08:57:07.000263: INFO ||NCC_WRAPPER||: No candidate found under /var/tmp/neuron-compile-cache/USER_neuroncc-2.6.0.19+3d819e565/MODULE_8220086016375512224.\n",
      "2023-05-15 08:57:07.000263: INFO ||NCC_WRAPPER||: Cache dir for the neff: /var/tmp/neuron-compile-cache/USER_neuroncc-2.6.0.19+3d819e565/MODULE_8220086016375512224/MODULE_36_SyncTensorsGraph.3_8220086016375512224_ip-10-0-12-88-de8a7b14-27522-5fbb7a3ade794/4352db1c-b925-44bc-b2a5-6aa30a385f1e\n"
     ]
    },
    {
     "name": "stdout",
     "output_type": "stream",
     "text": [
      ".\n",
      "Compiler status PASS\n"
     ]
    },
    {
     "name": "stderr",
     "output_type": "stream",
     "text": [
      "2023-05-15 08:57:08.000653: INFO ||NCC_WRAPPER||: Exiting with a successfully compiled graph\n",
      "2023-05-15 08:57:08.000702: INFO ||NCC_WRAPPER||: No candidate found under /var/tmp/neuron-compile-cache/USER_neuroncc-2.6.0.19+3d819e565/MODULE_202156204255589455.\n",
      "2023-05-15 08:57:08.000702: INFO ||NCC_WRAPPER||: Cache dir for the neff: /var/tmp/neuron-compile-cache/USER_neuroncc-2.6.0.19+3d819e565/MODULE_202156204255589455/MODULE_37_SyncTensorsGraph.3_202156204255589455_ip-10-0-12-88-50b41934-27522-5fbb7a3c3e495/6eba8ead-7962-4615-9411-b223440d50fb\n"
     ]
    },
    {
     "name": "stdout",
     "output_type": "stream",
     "text": [
      ".\n",
      "Compiler status PASS\n"
     ]
    },
    {
     "name": "stderr",
     "output_type": "stream",
     "text": [
      "2023-05-15 08:57:10.000561: INFO ||NCC_WRAPPER||: Exiting with a successfully compiled graph\n",
      "2023-05-15 08:57:10.000619: INFO ||NCC_WRAPPER||: No candidate found under /var/tmp/neuron-compile-cache/USER_neuroncc-2.6.0.19+3d819e565/MODULE_4067368179931042123.\n",
      "2023-05-15 08:57:10.000620: INFO ||NCC_WRAPPER||: Cache dir for the neff: /var/tmp/neuron-compile-cache/USER_neuroncc-2.6.0.19+3d819e565/MODULE_4067368179931042123/MODULE_38_SyncTensorsGraph.3_4067368179931042123_ip-10-0-12-88-fc71a07f-27522-5fbb7a3e122b5/06b4ccb6-76d6-4cbd-b585-50e6232fc8c1\n"
     ]
    },
    {
     "name": "stdout",
     "output_type": "stream",
     "text": [
      ".\n",
      "Compiler status PASS\n"
     ]
    },
    {
     "name": "stderr",
     "output_type": "stream",
     "text": [
      "2023-05-15 08:57:12.000043: INFO ||NCC_WRAPPER||: Exiting with a successfully compiled graph\n",
      "2023-05-15 08:57:12.000176: INFO ||NCC_WRAPPER||: No candidate found under /var/tmp/neuron-compile-cache/USER_neuroncc-2.6.0.19+3d819e565/MODULE_15618676896954476946.\n",
      "2023-05-15 08:57:12.000176: INFO ||NCC_WRAPPER||: Cache dir for the neff: /var/tmp/neuron-compile-cache/USER_neuroncc-2.6.0.19+3d819e565/MODULE_15618676896954476946/MODULE_39_SyncTensorsGraph.3_15618676896954476946_ip-10-0-12-88-f28eeafe-27522-5fbb7a3f8e550/371a5017-c87f-4bf5-87c9-f49d10c8bda0\n"
     ]
    },
    {
     "name": "stdout",
     "output_type": "stream",
     "text": [
      ".\n",
      "Compiler status PASS\n"
     ]
    },
    {
     "name": "stderr",
     "output_type": "stream",
     "text": [
      "2023-05-15 08:57:13.000301: INFO ||NCC_WRAPPER||: Exiting with a successfully compiled graph\n",
      "2023-05-15 08:57:13.000369: INFO ||NCC_WRAPPER||: No candidate found under /var/tmp/neuron-compile-cache/USER_neuroncc-2.6.0.19+3d819e565/MODULE_7409385627380406351.\n",
      "2023-05-15 08:57:13.000369: INFO ||NCC_WRAPPER||: Cache dir for the neff: /var/tmp/neuron-compile-cache/USER_neuroncc-2.6.0.19+3d819e565/MODULE_7409385627380406351/MODULE_40_SyncTensorsGraph.3_7409385627380406351_ip-10-0-12-88-439ef6a8-27522-5fbb7a40b1b13/10abba47-515a-41f0-b200-021eb698f85e\n"
     ]
    },
    {
     "name": "stdout",
     "output_type": "stream",
     "text": [
      ".\n",
      "Compiler status PASS\n"
     ]
    },
    {
     "name": "stderr",
     "output_type": "stream",
     "text": [
      "2023-05-15 08:57:14.000553: INFO ||NCC_WRAPPER||: Exiting with a successfully compiled graph\n",
      "2023-05-15 08:57:14.000612: INFO ||NCC_WRAPPER||: No candidate found under /var/tmp/neuron-compile-cache/USER_neuroncc-2.6.0.19+3d819e565/MODULE_16185869973308554443.\n",
      "2023-05-15 08:57:14.000613: INFO ||NCC_WRAPPER||: Cache dir for the neff: /var/tmp/neuron-compile-cache/USER_neuroncc-2.6.0.19+3d819e565/MODULE_16185869973308554443/MODULE_41_SyncTensorsGraph.3_16185869973308554443_ip-10-0-12-88-743a8c54-27522-5fbb7a41e0e0e/214ca835-07db-4be6-8f93-cd0cc2c4b289\n"
     ]
    },
    {
     "name": "stdout",
     "output_type": "stream",
     "text": [
      ".\n",
      "Compiler status PASS\n"
     ]
    },
    {
     "name": "stderr",
     "output_type": "stream",
     "text": [
      "2023-05-15 08:57:15.000933: INFO ||NCC_WRAPPER||: Exiting with a successfully compiled graph\n",
      "2023-05-15 08:57:16.000002: INFO ||NCC_WRAPPER||: No candidate found under /var/tmp/neuron-compile-cache/USER_neuroncc-2.6.0.19+3d819e565/MODULE_7756009978805380526.\n",
      "2023-05-15 08:57:16.000003: INFO ||NCC_WRAPPER||: Cache dir for the neff: /var/tmp/neuron-compile-cache/USER_neuroncc-2.6.0.19+3d819e565/MODULE_7756009978805380526/MODULE_42_SyncTensorsGraph.3_7756009978805380526_ip-10-0-12-88-c4e668fd-27522-5fbb7a433471a/c684794e-cb18-46ad-868a-9c2a59c94373\n"
     ]
    },
    {
     "name": "stdout",
     "output_type": "stream",
     "text": [
      ".\n",
      "Compiler status PASS\n"
     ]
    },
    {
     "name": "stderr",
     "output_type": "stream",
     "text": [
      "2023-05-15 08:57:17.000408: INFO ||NCC_WRAPPER||: Exiting with a successfully compiled graph\n",
      "2023-05-15 08:57:17.000539: INFO ||NCC_WRAPPER||: No candidate found under /var/tmp/neuron-compile-cache/USER_neuroncc-2.6.0.19+3d819e565/MODULE_14338300833188661508.\n",
      "2023-05-15 08:57:17.000539: INFO ||NCC_WRAPPER||: Cache dir for the neff: /var/tmp/neuron-compile-cache/USER_neuroncc-2.6.0.19+3d819e565/MODULE_14338300833188661508/MODULE_43_SyncTensorsGraph.3_14338300833188661508_ip-10-0-12-88-8eeb236e-27522-5fbb7a44abc20/836814d8-a333-416a-a824-d94649cc0418\n"
     ]
    },
    {
     "name": "stdout",
     "output_type": "stream",
     "text": [
      ".\n",
      "Compiler status PASS\n"
     ]
    },
    {
     "name": "stderr",
     "output_type": "stream",
     "text": [
      "2023-05-15 08:57:19.000126: INFO ||NCC_WRAPPER||: Exiting with a successfully compiled graph\n",
      "2023-05-15 08:57:19.000236: INFO ||NCC_WRAPPER||: No candidate found under /var/tmp/neuron-compile-cache/USER_neuroncc-2.6.0.19+3d819e565/MODULE_16759901630722977586.\n",
      "2023-05-15 08:57:19.000237: INFO ||NCC_WRAPPER||: Cache dir for the neff: /var/tmp/neuron-compile-cache/USER_neuroncc-2.6.0.19+3d819e565/MODULE_16759901630722977586/MODULE_44_SyncTensorsGraph.3_16759901630722977586_ip-10-0-12-88-bdffc07-27522-5fbb7a4649e83/292072db-1544-46de-b519-47baa96d9f9d\n"
     ]
    },
    {
     "name": "stdout",
     "output_type": "stream",
     "text": [
      ".\n",
      "Compiler status PASS\n"
     ]
    },
    {
     "name": "stderr",
     "output_type": "stream",
     "text": [
      "2023-05-15 08:57:20.000404: INFO ||NCC_WRAPPER||: Exiting with a successfully compiled graph\n",
      "2023-05-15 08:57:20.000453: INFO ||NCC_WRAPPER||: No candidate found under /var/tmp/neuron-compile-cache/USER_neuroncc-2.6.0.19+3d819e565/MODULE_10004120588995968175.\n",
      "2023-05-15 08:57:20.000454: INFO ||NCC_WRAPPER||: Cache dir for the neff: /var/tmp/neuron-compile-cache/USER_neuroncc-2.6.0.19+3d819e565/MODULE_10004120588995968175/MODULE_45_SyncTensorsGraph.3_10004120588995968175_ip-10-0-12-88-f28eeafe-27522-5fbb7a47735a6/c2d20ac8-fbbe-467a-b203-f11f617ee063\n"
     ]
    },
    {
     "name": "stdout",
     "output_type": "stream",
     "text": [
      ".\n",
      "Compiler status PASS\n"
     ]
    },
    {
     "name": "stderr",
     "output_type": "stream",
     "text": [
      "2023-05-15 08:57:21.000594: INFO ||NCC_WRAPPER||: Exiting with a successfully compiled graph\n",
      "2023-05-15 08:57:21.000675: INFO ||NCC_WRAPPER||: No candidate found under /var/tmp/neuron-compile-cache/USER_neuroncc-2.6.0.19+3d819e565/MODULE_15014333704822169380.\n",
      "2023-05-15 08:57:21.000675: INFO ||NCC_WRAPPER||: Cache dir for the neff: /var/tmp/neuron-compile-cache/USER_neuroncc-2.6.0.19+3d819e565/MODULE_15014333704822169380/MODULE_46_SyncTensorsGraph.3_15014333704822169380_ip-10-0-12-88-f28eeafe-27522-5fbb7a489d796/b4275280-9e22-4510-839c-3270567e15b7\n"
     ]
    },
    {
     "name": "stdout",
     "output_type": "stream",
     "text": [
      ".\n",
      "Compiler status PASS\n"
     ]
    },
    {
     "name": "stderr",
     "output_type": "stream",
     "text": [
      "2023-05-15 08:57:22.000831: INFO ||NCC_WRAPPER||: Exiting with a successfully compiled graph\n",
      "2023-05-15 08:57:23.000040: INFO ||NCC_WRAPPER||: No candidate found under /var/tmp/neuron-compile-cache/USER_neuroncc-2.6.0.19+3d819e565/MODULE_8071238043755949118.\n",
      "2023-05-15 08:57:23.000040: INFO ||NCC_WRAPPER||: Cache dir for the neff: /var/tmp/neuron-compile-cache/USER_neuroncc-2.6.0.19+3d819e565/MODULE_8071238043755949118/MODULE_47_SyncTensorsGraph.3_8071238043755949118_ip-10-0-12-88-743a8c54-27522-5fbb7a49eab8a/99174ae5-f1c1-4350-9827-fc495600b747\n"
     ]
    },
    {
     "name": "stdout",
     "output_type": "stream",
     "text": [
      ".\n",
      "Compiler status PASS\n"
     ]
    },
    {
     "name": "stderr",
     "output_type": "stream",
     "text": [
      "2023-05-15 08:57:24.000191: INFO ||NCC_WRAPPER||: Exiting with a successfully compiled graph\n",
      "2023-05-15 08:57:24.000294: INFO ||NCC_WRAPPER||: No candidate found under /var/tmp/neuron-compile-cache/USER_neuroncc-2.6.0.19+3d819e565/MODULE_12541391099356181446.\n",
      "2023-05-15 08:57:24.000295: INFO ||NCC_WRAPPER||: Cache dir for the neff: /var/tmp/neuron-compile-cache/USER_neuroncc-2.6.0.19+3d819e565/MODULE_12541391099356181446/MODULE_48_SyncTensorsGraph.3_12541391099356181446_ip-10-0-12-88-8eeb236e-27522-5fbb7a4b1cc2d/1046a696-7f65-4f41-abcb-f9509ff56503\n"
     ]
    },
    {
     "name": "stdout",
     "output_type": "stream",
     "text": [
      ".\n",
      "Compiler status PASS\n"
     ]
    },
    {
     "name": "stderr",
     "output_type": "stream",
     "text": [
      "2023-05-15 08:57:25.000814: INFO ||NCC_WRAPPER||: Exiting with a successfully compiled graph\n",
      "2023-05-15 08:57:25.000919: INFO ||NCC_WRAPPER||: No candidate found under /var/tmp/neuron-compile-cache/USER_neuroncc-2.6.0.19+3d819e565/MODULE_16582500516948836264.\n",
      "2023-05-15 08:57:25.000919: INFO ||NCC_WRAPPER||: Cache dir for the neff: /var/tmp/neuron-compile-cache/USER_neuroncc-2.6.0.19+3d819e565/MODULE_16582500516948836264/MODULE_49_SyncTensorsGraph.3_16582500516948836264_ip-10-0-12-88-e0a3b07-27522-5fbb7a4ca9618/18b6e42c-f766-4423-8f50-c9c595483bf8\n"
     ]
    },
    {
     "name": "stdout",
     "output_type": "stream",
     "text": [
      ".\n",
      "Compiler status PASS\n"
     ]
    },
    {
     "name": "stderr",
     "output_type": "stream",
     "text": [
      "2023-05-15 08:57:27.000305: INFO ||NCC_WRAPPER||: Exiting with a successfully compiled graph\n",
      "2023-05-15 08:57:27.000696: INFO ||NCC_WRAPPER||: No candidate found under /var/tmp/neuron-compile-cache/USER_neuroncc-2.6.0.19+3d819e565/MODULE_17591817615128010000.\n",
      "2023-05-15 08:57:27.000696: INFO ||NCC_WRAPPER||: Cache dir for the neff: /var/tmp/neuron-compile-cache/USER_neuroncc-2.6.0.19+3d819e565/MODULE_17591817615128010000/MODULE_50_SyncTensorsGraph.3_17591817615128010000_ip-10-0-12-88-fc71a07f-27522-5fbb7a4e5b2f7/60df8132-19dd-4084-9a1a-1e8e4b2499f9\n"
     ]
    },
    {
     "name": "stdout",
     "output_type": "stream",
     "text": [
      ".\n",
      "Compiler status PASS\n"
     ]
    },
    {
     "name": "stderr",
     "output_type": "stream",
     "text": [
      "2023-05-15 08:57:28.000791: INFO ||NCC_WRAPPER||: Exiting with a successfully compiled graph\n",
      "2023-05-15 08:57:29.000008: INFO ||NCC_WRAPPER||: No candidate found under /var/tmp/neuron-compile-cache/USER_neuroncc-2.6.0.19+3d819e565/MODULE_2061622240500163649.\n",
      "2023-05-15 08:57:29.000008: INFO ||NCC_WRAPPER||: Cache dir for the neff: /var/tmp/neuron-compile-cache/USER_neuroncc-2.6.0.19+3d819e565/MODULE_2061622240500163649/MODULE_51_SyncTensorsGraph.3_2061622240500163649_ip-10-0-12-88-fef207a9-27522-5fbb7a4f9bd6c/3ed132d7-613e-4505-8399-78b7b6d7ec01\n"
     ]
    },
    {
     "name": "stdout",
     "output_type": "stream",
     "text": [
      ".\n",
      "Compiler status PASS\n"
     ]
    },
    {
     "name": "stderr",
     "output_type": "stream",
     "text": [
      "2023-05-15 08:57:30.000382: INFO ||NCC_WRAPPER||: Exiting with a successfully compiled graph\n",
      "2023-05-15 08:57:31.000446: INFO ||NCC_WRAPPER||: No candidate found under /var/tmp/neuron-compile-cache/USER_neuroncc-2.6.0.19+3d819e565/MODULE_10886793130937485020.\n",
      "2023-05-15 08:57:31.000446: INFO ||NCC_WRAPPER||: Cache dir for the neff: /var/tmp/neuron-compile-cache/USER_neuroncc-2.6.0.19+3d819e565/MODULE_10886793130937485020/MODULE_52_SyncTensorsGraph.3_10886793130937485020_ip-10-0-12-88-14aa2026-27522-5fbb7a51eef65/c3d8c88c-2337-49e1-9168-e92b06d017a9\n"
     ]
    },
    {
     "name": "stdout",
     "output_type": "stream",
     "text": [
      ".\n",
      "Compiler status PASS\n"
     ]
    },
    {
     "name": "stderr",
     "output_type": "stream",
     "text": [
      "2023-05-15 08:57:32.000684: INFO ||NCC_WRAPPER||: Exiting with a successfully compiled graph\n",
      "2023-05-15 08:57:32.000735: INFO ||NCC_WRAPPER||: No candidate found under /var/tmp/neuron-compile-cache/USER_neuroncc-2.6.0.19+3d819e565/MODULE_11024844292640442441.\n",
      "2023-05-15 08:57:32.000735: INFO ||NCC_WRAPPER||: Cache dir for the neff: /var/tmp/neuron-compile-cache/USER_neuroncc-2.6.0.19+3d819e565/MODULE_11024844292640442441/MODULE_53_SyncTensorsGraph.3_11024844292640442441_ip-10-0-12-88-fef207a9-27522-5fbb7a5329aa3/8af53eee-dcc4-4da8-bf08-4204dbfb147d\n"
     ]
    },
    {
     "name": "stdout",
     "output_type": "stream",
     "text": [
      ".\n",
      "Compiler status PASS\n"
     ]
    },
    {
     "name": "stderr",
     "output_type": "stream",
     "text": [
      "2023-05-15 08:57:34.000128: INFO ||NCC_WRAPPER||: Exiting with a successfully compiled graph\n",
      "2023-05-15 08:57:34.000280: INFO ||NCC_WRAPPER||: No candidate found under /var/tmp/neuron-compile-cache/USER_neuroncc-2.6.0.19+3d819e565/MODULE_12104966163109559033.\n",
      "2023-05-15 08:57:34.000280: INFO ||NCC_WRAPPER||: Cache dir for the neff: /var/tmp/neuron-compile-cache/USER_neuroncc-2.6.0.19+3d819e565/MODULE_12104966163109559033/MODULE_54_SyncTensorsGraph.3_12104966163109559033_ip-10-0-12-88-e0a3b07-27522-5fbb7a54a2d4e/922b5088-578e-45c5-be50-a3f27b28e34d\n"
     ]
    },
    {
     "name": "stdout",
     "output_type": "stream",
     "text": [
      ".\n",
      "Compiler status PASS\n"
     ]
    },
    {
     "name": "stderr",
     "output_type": "stream",
     "text": [
      "2023-05-15 08:57:35.000611: INFO ||NCC_WRAPPER||: Exiting with a successfully compiled graph\n",
      "2023-05-15 08:57:35.000856: INFO ||NCC_WRAPPER||: No candidate found under /var/tmp/neuron-compile-cache/USER_neuroncc-2.6.0.19+3d819e565/MODULE_4874876820391087806.\n",
      "2023-05-15 08:57:35.000857: INFO ||NCC_WRAPPER||: Cache dir for the neff: /var/tmp/neuron-compile-cache/USER_neuroncc-2.6.0.19+3d819e565/MODULE_4874876820391087806/MODULE_55_SyncTensorsGraph.3_4874876820391087806_ip-10-0-12-88-50b41934-27522-5fbb7a5623d84/8b839c79-46b9-4606-a7a5-335bc083a39a\n"
     ]
    },
    {
     "name": "stdout",
     "output_type": "stream",
     "text": [
      ".\n",
      "Compiler status PASS\n"
     ]
    },
    {
     "name": "stderr",
     "output_type": "stream",
     "text": [
      "2023-05-15 08:57:37.000077: INFO ||NCC_WRAPPER||: Exiting with a successfully compiled graph\n",
      "2023-05-15 08:57:37.000168: INFO ||NCC_WRAPPER||: No candidate found under /var/tmp/neuron-compile-cache/USER_neuroncc-2.6.0.19+3d819e565/MODULE_1449294706932660674.\n",
      "2023-05-15 08:57:37.000168: INFO ||NCC_WRAPPER||: Cache dir for the neff: /var/tmp/neuron-compile-cache/USER_neuroncc-2.6.0.19+3d819e565/MODULE_1449294706932660674/MODULE_56_SyncTensorsGraph.3_1449294706932660674_ip-10-0-12-88-de8a7b14-27522-5fbb7a5763ea2/75b88376-b53c-4971-bc60-301e40311b96\n"
     ]
    },
    {
     "name": "stdout",
     "output_type": "stream",
     "text": [
      ".\n",
      "Compiler status PASS\n"
     ]
    },
    {
     "name": "stderr",
     "output_type": "stream",
     "text": [
      "2023-05-15 08:57:38.000320: INFO ||NCC_WRAPPER||: Exiting with a successfully compiled graph\n",
      "2023-05-15 08:57:38.000375: INFO ||NCC_WRAPPER||: No candidate found under /var/tmp/neuron-compile-cache/USER_neuroncc-2.6.0.19+3d819e565/MODULE_14704909842298154060.\n",
      "2023-05-15 08:57:38.000376: INFO ||NCC_WRAPPER||: Cache dir for the neff: /var/tmp/neuron-compile-cache/USER_neuroncc-2.6.0.19+3d819e565/MODULE_14704909842298154060/MODULE_57_SyncTensorsGraph.3_14704909842298154060_ip-10-0-12-88-743a8c54-27522-5fbb7a588aa6f/90626090-ca2e-4e66-b49a-7346b53dec1e\n"
     ]
    },
    {
     "name": "stdout",
     "output_type": "stream",
     "text": [
      ".\n",
      "Compiler status PASS\n"
     ]
    },
    {
     "name": "stderr",
     "output_type": "stream",
     "text": [
      "2023-05-15 08:57:39.000542: INFO ||NCC_WRAPPER||: Exiting with a successfully compiled graph\n",
      "2023-05-15 08:57:39.000620: INFO ||NCC_WRAPPER||: No candidate found under /var/tmp/neuron-compile-cache/USER_neuroncc-2.6.0.19+3d819e565/MODULE_16771065858602972945.\n",
      "2023-05-15 08:57:39.000620: INFO ||NCC_WRAPPER||: Cache dir for the neff: /var/tmp/neuron-compile-cache/USER_neuroncc-2.6.0.19+3d819e565/MODULE_16771065858602972945/MODULE_58_SyncTensorsGraph.3_16771065858602972945_ip-10-0-12-88-c4e668fd-27522-5fbb7a59ba427/eb22eaeb-7929-473a-b5e3-cfc65420b427\n"
     ]
    },
    {
     "name": "stdout",
     "output_type": "stream",
     "text": [
      ".\n",
      "Compiler status PASS\n"
     ]
    },
    {
     "name": "stderr",
     "output_type": "stream",
     "text": [
      "2023-05-15 08:57:40.000977: INFO ||NCC_WRAPPER||: Exiting with a successfully compiled graph\n",
      "2023-05-15 08:57:41.000031: INFO ||NCC_WRAPPER||: No candidate found under /var/tmp/neuron-compile-cache/USER_neuroncc-2.6.0.19+3d819e565/MODULE_4781444543512652145.\n",
      "2023-05-15 08:57:41.000031: INFO ||NCC_WRAPPER||: Cache dir for the neff: /var/tmp/neuron-compile-cache/USER_neuroncc-2.6.0.19+3d819e565/MODULE_4781444543512652145/MODULE_59_SyncTensorsGraph.3_4781444543512652145_ip-10-0-12-88-439ef6a8-27522-5fbb7a5b12c1f/75759b8d-5099-4c0a-93a1-b22e4c39b7d0\n"
     ]
    },
    {
     "name": "stdout",
     "output_type": "stream",
     "text": [
      ".\n",
      "Compiler status PASS\n"
     ]
    },
    {
     "name": "stderr",
     "output_type": "stream",
     "text": [
      "2023-05-15 08:57:42.000141: INFO ||NCC_WRAPPER||: Exiting with a successfully compiled graph\n",
      "2023-05-15 08:57:42.000192: INFO ||NCC_WRAPPER||: No candidate found under /var/tmp/neuron-compile-cache/USER_neuroncc-2.6.0.19+3d819e565/MODULE_17274479483640052024.\n",
      "2023-05-15 08:57:42.000192: INFO ||NCC_WRAPPER||: Cache dir for the neff: /var/tmp/neuron-compile-cache/USER_neuroncc-2.6.0.19+3d819e565/MODULE_17274479483640052024/MODULE_60_SyncTensorsGraph.3_17274479483640052024_ip-10-0-12-88-fc71a07f-27522-5fbb7a5c2e720/b3c05e6e-e3ea-4abf-ad05-67eb17b8b788\n"
     ]
    },
    {
     "name": "stdout",
     "output_type": "stream",
     "text": [
      ".\n",
      "Compiler status PASS\n"
     ]
    },
    {
     "name": "stderr",
     "output_type": "stream",
     "text": [
      "2023-05-15 08:57:43.000592: INFO ||NCC_WRAPPER||: Exiting with a successfully compiled graph\n",
      "2023-05-15 08:57:43.000676: INFO ||NCC_WRAPPER||: No candidate found under /var/tmp/neuron-compile-cache/USER_neuroncc-2.6.0.19+3d819e565/MODULE_4312286359066435510.\n",
      "2023-05-15 08:57:43.000676: INFO ||NCC_WRAPPER||: Cache dir for the neff: /var/tmp/neuron-compile-cache/USER_neuroncc-2.6.0.19+3d819e565/MODULE_4312286359066435510/MODULE_61_SyncTensorsGraph.3_4312286359066435510_ip-10-0-12-88-bdffc07-27522-5fbb7a5d98a75/e177769e-8f26-455b-a378-ad4bcd819c8c\n"
     ]
    },
    {
     "name": "stdout",
     "output_type": "stream",
     "text": [
      ".\n",
      "Compiler status PASS\n"
     ]
    },
    {
     "name": "stderr",
     "output_type": "stream",
     "text": [
      "2023-05-15 08:57:44.000823: INFO ||NCC_WRAPPER||: Exiting with a successfully compiled graph\n",
      "2023-05-15 08:57:44.000992: INFO ||NCC_WRAPPER||: No candidate found under /var/tmp/neuron-compile-cache/USER_neuroncc-2.6.0.19+3d819e565/MODULE_1184115773963013873.\n",
      "2023-05-15 08:57:44.000992: INFO ||NCC_WRAPPER||: Cache dir for the neff: /var/tmp/neuron-compile-cache/USER_neuroncc-2.6.0.19+3d819e565/MODULE_1184115773963013873/MODULE_62_SyncTensorsGraph.3_1184115773963013873_ip-10-0-12-88-fef207a9-27522-5fbb7a5eda073/293dfbff-4180-486b-8f84-c1c8c6dee1c7\n"
     ]
    },
    {
     "name": "stdout",
     "output_type": "stream",
     "text": [
      ".\n",
      "Compiler status PASS\n"
     ]
    },
    {
     "name": "stderr",
     "output_type": "stream",
     "text": [
      "2023-05-15 08:57:46.000075: INFO ||NCC_WRAPPER||: Exiting with a successfully compiled graph\n",
      "2023-05-15 08:57:46.000142: INFO ||NCC_WRAPPER||: No candidate found under /var/tmp/neuron-compile-cache/USER_neuroncc-2.6.0.19+3d819e565/MODULE_16769280314621965635.\n",
      "2023-05-15 08:57:46.000142: INFO ||NCC_WRAPPER||: Cache dir for the neff: /var/tmp/neuron-compile-cache/USER_neuroncc-2.6.0.19+3d819e565/MODULE_16769280314621965635/MODULE_63_SyncTensorsGraph.3_16769280314621965635_ip-10-0-12-88-a97132a6-27522-5fbb7a5ff2ced/cd169da5-8044-4877-b76b-3d8be44acbd7\n"
     ]
    },
    {
     "name": "stdout",
     "output_type": "stream",
     "text": [
      ".\n",
      "Compiler status PASS\n"
     ]
    },
    {
     "name": "stderr",
     "output_type": "stream",
     "text": [
      "2023-05-15 08:57:47.000274: INFO ||NCC_WRAPPER||: Exiting with a successfully compiled graph\n",
      "2023-05-15 08:57:47.000328: INFO ||NCC_WRAPPER||: No candidate found under /var/tmp/neuron-compile-cache/USER_neuroncc-2.6.0.19+3d819e565/MODULE_1825917890920805220.\n",
      "2023-05-15 08:57:47.000328: INFO ||NCC_WRAPPER||: Cache dir for the neff: /var/tmp/neuron-compile-cache/USER_neuroncc-2.6.0.19+3d819e565/MODULE_1825917890920805220/MODULE_64_SyncTensorsGraph.3_1825917890920805220_ip-10-0-12-88-984ce1a0-27522-5fbb7a61146a7/4b50756a-b663-4026-8d29-aad186a5154d\n"
     ]
    },
    {
     "name": "stdout",
     "output_type": "stream",
     "text": [
      ".\n",
      "Compiler status PASS\n"
     ]
    },
    {
     "name": "stderr",
     "output_type": "stream",
     "text": [
      "2023-05-15 08:57:48.000402: INFO ||NCC_WRAPPER||: Exiting with a successfully compiled graph\n",
      "2023-05-15 08:57:48.000468: INFO ||NCC_WRAPPER||: No candidate found under /var/tmp/neuron-compile-cache/USER_neuroncc-2.6.0.19+3d819e565/MODULE_13989279939700266246.\n",
      "2023-05-15 08:57:48.000468: INFO ||NCC_WRAPPER||: Cache dir for the neff: /var/tmp/neuron-compile-cache/USER_neuroncc-2.6.0.19+3d819e565/MODULE_13989279939700266246/MODULE_65_SyncTensorsGraph.3_13989279939700266246_ip-10-0-12-88-4e1e5b85-27522-5fbb7a622ac30/21583a1e-f6e3-419a-b001-b56719fe6f76\n"
     ]
    },
    {
     "name": "stdout",
     "output_type": "stream",
     "text": [
      ".\n",
      "Compiler status PASS\n"
     ]
    },
    {
     "name": "stderr",
     "output_type": "stream",
     "text": [
      "2023-05-15 08:57:49.000777: INFO ||NCC_WRAPPER||: Exiting with a successfully compiled graph\n",
      "2023-05-15 08:57:50.000140: INFO ||NCC_WRAPPER||: No candidate found under /var/tmp/neuron-compile-cache/USER_neuroncc-2.6.0.19+3d819e565/MODULE_15773664540124173379.\n",
      "2023-05-15 08:57:50.000140: INFO ||NCC_WRAPPER||: Cache dir for the neff: /var/tmp/neuron-compile-cache/USER_neuroncc-2.6.0.19+3d819e565/MODULE_15773664540124173379/MODULE_66_SyncTensorsGraph.3_15773664540124173379_ip-10-0-12-88-8eeb236e-27522-5fbb7a63c2c0c/96a9db5d-1519-4622-8a30-f85c7bfc6faf\n"
     ]
    },
    {
     "name": "stdout",
     "output_type": "stream",
     "text": [
      ".\n",
      "Compiler status PASS\n"
     ]
    },
    {
     "name": "stderr",
     "output_type": "stream",
     "text": [
      "2023-05-15 08:57:51.000325: INFO ||NCC_WRAPPER||: Exiting with a successfully compiled graph\n",
      "2023-05-15 08:57:51.000376: INFO ||NCC_WRAPPER||: No candidate found under /var/tmp/neuron-compile-cache/USER_neuroncc-2.6.0.19+3d819e565/MODULE_10244891051168338447.\n",
      "2023-05-15 08:57:51.000377: INFO ||NCC_WRAPPER||: Cache dir for the neff: /var/tmp/neuron-compile-cache/USER_neuroncc-2.6.0.19+3d819e565/MODULE_10244891051168338447/MODULE_67_SyncTensorsGraph.3_10244891051168338447_ip-10-0-12-88-a97132a6-27522-5fbb7a64f07cb/3d31d099-f7d0-420a-8696-98ecbe45833b\n"
     ]
    },
    {
     "name": "stdout",
     "output_type": "stream",
     "text": [
      ".\n",
      "Compiler status PASS\n"
     ]
    },
    {
     "name": "stderr",
     "output_type": "stream",
     "text": [
      "2023-05-15 08:57:52.000482: INFO ||NCC_WRAPPER||: Exiting with a successfully compiled graph\n"
     ]
    },
    {
     "data": {
      "application/vnd.jupyter.widget-view+json": {
       "model_id": "404921084d57448784643c5cbc0ce074",
       "version_major": 2,
       "version_minor": 0
      },
      "text/plain": [
       "Fetching 13 files:   0%|          | 0/13 [00:00<?, ?it/s]"
      ]
     },
     "metadata": {},
     "output_type": "display_data"
    },
    {
     "name": "stderr",
     "output_type": "stream",
     "text": [
      "2023-05-15 09:02:14.000094: INFO ||NCC_WRAPPER||: No candidate found under /var/tmp/neuron-compile-cache/USER_neuroncc-2.6.0.19+3d819e565/MODULE_8963824908746152606.\n",
      "2023-05-15 09:02:14.000094: INFO ||NCC_WRAPPER||: Cache dir for the neff: /var/tmp/neuron-compile-cache/USER_neuroncc-2.6.0.19+3d819e565/MODULE_8963824908746152606/MODULE_68_SyncTensorsGraph.3_8963824908746152606_ip-10-0-12-88-a97132a6-27522-5fbb7b5f7cf0b/3abd1d11-9110-4964-bfb8-3429ea576103\n"
     ]
    },
    {
     "name": "stdout",
     "output_type": "stream",
     "text": [
      ".\n",
      "Compiler status PASS\n"
     ]
    },
    {
     "name": "stderr",
     "output_type": "stream",
     "text": [
      "2023-05-15 09:02:15.000298: INFO ||NCC_WRAPPER||: Exiting with a successfully compiled graph\n"
     ]
    }
   ],
   "source": [
    "# For saving compiler artifacts\n",
    "COMPILER_WORKDIR_ROOT = 'sd2_compile_dir_512'\n",
    "\n",
    "# Model ID for SD version pipeline\n",
    "model_id = \"stabilityai/stable-diffusion-2-1-base\"\n",
    "\n",
    "\n",
    "# --- Compile CLIP text encoder and save ---\n",
    "\n",
    "# Only keep the model being compiled in RAM to minimze memory pressure\n",
    "pipe = StableDiffusionPipeline.from_pretrained(model_id, torch_dtype=torch.bfloat16)\n",
    "text_encoder = copy.deepcopy(pipe.text_encoder)\n",
    "del pipe\n",
    "\n",
    "# Apply the wrapper to deal with custom return type\n",
    "text_encoder = NeuronTextEncoder(text_encoder)\n",
    "\n",
    "# Compile text encoder\n",
    "# This is used for indexing a lookup table in torch.nn.Embedding,\n",
    "# so using random numbers may give errors (out of range).\n",
    "emb = torch.tensor([[49406, 18376,   525,  7496, 49407,     0,     0,     0,     0,     0,\n",
    "        0,     0,     0,     0,     0,     0,     0,     0,     0,     0,\n",
    "        0,     0,     0,     0,     0,     0,     0,     0,     0,     0,\n",
    "        0,     0,     0,     0,     0,     0,     0,     0,     0,     0,\n",
    "        0,     0,     0,     0,     0,     0,     0,     0,     0,     0,\n",
    "        0,     0,     0,     0,     0,     0,     0,     0,     0,     0,\n",
    "        0,     0,     0,     0,     0,     0,     0,     0,     0,     0,\n",
    "        0,     0,     0,     0,     0,     0,     0]])\n",
    "text_encoder_neuron = torch_neuronx.trace(\n",
    "        text_encoder.neuron_text_encoder, \n",
    "        emb, \n",
    "        compiler_workdir=os.path.join(COMPILER_WORKDIR_ROOT, 'text_encoder'),\n",
    "        )\n",
    "\n",
    "# Save the compiled text encoder\n",
    "text_encoder_filename = os.path.join(COMPILER_WORKDIR_ROOT, 'text_encoder/model.pt')\n",
    "torch.jit.save(text_encoder_neuron, text_encoder_filename)\n",
    "\n",
    "# delete unused objects\n",
    "del text_encoder\n",
    "del text_encoder_neuron\n",
    "\n",
    "\n",
    "\n",
    "# --- Compile VAE decoder and save ---\n",
    "\n",
    "# Only keep the model being compiled in RAM to minimze memory pressure\n",
    "pipe = StableDiffusionPipeline.from_pretrained(model_id, torch_dtype=torch.bfloat16)\n",
    "decoder = copy.deepcopy(pipe.vae.decoder)\n",
    "del pipe\n",
    "\n",
    "# Compile vae decoder\n",
    "decoder_in = torch.randn([1, 4, 64, 64]).bfloat16()\n",
    "decoder_neuron = torch_neuronx.trace(\n",
    "    decoder, \n",
    "    decoder_in, \n",
    "    compiler_workdir=os.path.join(COMPILER_WORKDIR_ROOT, 'vae_decoder'),\n",
    ")\n",
    "\n",
    "# Save the compiled vae decoder\n",
    "decoder_filename = os.path.join(COMPILER_WORKDIR_ROOT, 'vae_decoder/model.pt')\n",
    "torch.jit.save(decoder_neuron, decoder_filename)\n",
    "\n",
    "# delete unused objects\n",
    "del decoder\n",
    "del decoder_neuron\n",
    "\n",
    "\n",
    "\n",
    "# --- Compile UNet and save ---\n",
    "\n",
    "pipe = StableDiffusionPipeline.from_pretrained(model_id, torch_dtype=torch.bfloat16)\n",
    "\n",
    "# Replace original cross-attention module with custom cross-attention module for better performance\n",
    "CrossAttention.get_attention_scores = get_attention_scores\n",
    "\n",
    "# Apply double wrapper to deal with custom return type\n",
    "pipe.unet = NeuronUNet(UNetWrap(pipe.unet))\n",
    "\n",
    "# Only keep the model being compiled in RAM to minimze memory pressure\n",
    "unet = copy.deepcopy(pipe.unet.unetwrap)\n",
    "del pipe\n",
    "\n",
    "# Compile unet - BF16\n",
    "sample_1b = torch.randn([1, 4, 64, 64]).bfloat16()\n",
    "timestep_1b = torch.tensor(999).bfloat16().expand((1,))\n",
    "encoder_hidden_states_1b = torch.randn([1, 77, 1024]).bfloat16()\n",
    "example_inputs = sample_1b, timestep_1b, encoder_hidden_states_1b\n",
    "\n",
    "unet_neuron = torch_neuronx.trace(\n",
    "    unet,\n",
    "    example_inputs,\n",
    "    compiler_workdir=os.path.join(COMPILER_WORKDIR_ROOT, 'unet'),\n",
    "    compiler_args=[\"--model-type=unet-inference\"]\n",
    ")\n",
    "\n",
    "# save compiled unet\n",
    "unet_filename = os.path.join(COMPILER_WORKDIR_ROOT, 'unet/model.pt')\n",
    "torch.jit.save(unet_neuron, unet_filename)\n",
    "\n",
    "# delete unused objects\n",
    "del unet\n",
    "del unet_neuron\n",
    "\n",
    "\n",
    "\n",
    "# --- Compile VAE post_quant_conv and save ---\n",
    "\n",
    "# Only keep the model being compiled in RAM to minimze memory pressure\n",
    "pipe = StableDiffusionPipeline.from_pretrained(model_id, torch_dtype=torch.bfloat16)\n",
    "post_quant_conv = copy.deepcopy(pipe.vae.post_quant_conv)\n",
    "del pipe\n",
    "\n",
    "# # Compile vae post_quant_conv\n",
    "post_quant_conv_in = torch.randn([1, 4, 64, 64]).bfloat16()\n",
    "post_quant_conv_neuron = torch_neuronx.trace(\n",
    "    post_quant_conv, \n",
    "    post_quant_conv_in,\n",
    "    compiler_workdir=os.path.join(COMPILER_WORKDIR_ROOT, 'vae_post_quant_conv'),\n",
    ")\n",
    "\n",
    "# # Save the compiled vae post_quant_conv\n",
    "post_quant_conv_filename = os.path.join(COMPILER_WORKDIR_ROOT, 'vae_post_quant_conv/model.pt')\n",
    "torch.jit.save(post_quant_conv_neuron, post_quant_conv_filename)\n",
    "\n",
    "# delete unused objects\n",
    "del post_quant_conv\n",
    "del post_quant_conv_neuron"
   ]
  },
  {
   "attachments": {},
   "cell_type": "markdown",
   "metadata": {},
   "source": [
    "**Load the saved model and run it**\n",
    "\n",
    "Now that the model is compiled, you can reload it with any number of prompts. Note the use of the `torch_neuronx.DataParallel` API to load the UNet onto two neuron cores for data-parallel inference. Currently the UNet is the only part of the pipeline that runs data-parallel on two cores. All other parts of the pipeline runs on a single Neuron core.\n",
    "\n",
    "Edit the Prompts below to see what you can create."
   ]
  },
  {
   "cell_type": "code",
   "execution_count": null,
   "metadata": {
    "scrolled": false
   },
   "outputs": [],
   "source": [
    "# --- Load all compiled models ---\n",
    "COMPILER_WORKDIR_ROOT = 'sd2_compile_dir_512'\n",
    "model_id = \"stabilityai/stable-diffusion-2-1-base\"\n",
    "text_encoder_filename = os.path.join(COMPILER_WORKDIR_ROOT, 'text_encoder/model.pt')\n",
    "decoder_filename = os.path.join(COMPILER_WORKDIR_ROOT, 'vae_decoder/model.pt')\n",
    "unet_filename = os.path.join(COMPILER_WORKDIR_ROOT, 'unet/model.pt')\n",
    "post_quant_conv_filename = os.path.join(COMPILER_WORKDIR_ROOT, 'vae_post_quant_conv/model.pt')\n",
    "\n",
    "pipe = StableDiffusionPipeline.from_pretrained(model_id, torch_dtype=torch.bfloat16)\n",
    "pipe.scheduler = DPMSolverMultistepScheduler.from_config(pipe.scheduler.config)\n",
    "\n",
    "# Load the compiled UNet onto two neuron cores.\n",
    "pipe.unet = NeuronUNet(UNetWrap(pipe.unet))\n",
    "device_ids = [0,1]\n",
    "pipe.unet.unetwrap = torch_neuronx.DataParallel(torch.jit.load(unet_filename), device_ids, set_dynamic_batching=False)\n",
    "\n",
    "# Load other compiled models onto a single neuron core.\n",
    "pipe.text_encoder = NeuronTextEncoder(pipe.text_encoder)\n",
    "pipe.text_encoder.neuron_text_encoder = torch.jit.load(text_encoder_filename)\n",
    "pipe.vae.decoder = torch.jit.load(decoder_filename)\n",
    "pipe.vae.post_quant_conv = torch.jit.load(post_quant_conv_filename)\n",
    "\n"
   ]
  },
  {
   "cell_type": "code",
   "execution_count": null,
   "metadata": {},
   "outputs": [],
   "source": [
    "\n",
    "# Run pipeline\n",
    "prompt = [\"a photo of an astronaut riding a horse on mars\",\n",
    "          \"sonic on the moon\",\n",
    "          \"elvis playing guitar while eating a hotdog\",\n",
    "          \"saved by the bell\",\n",
    "          \"engineers eating lunch at the opera\",\n",
    "          \"panda eating bamboo on a plane\",\n",
    "          \"A digital illustration of a steampunk flying machine in the sky with cogs and mechanisms, 4k, detailed, trending in artstation, fantasy vivid colors\",\n",
    "          \"kids playing soccer at the FIFA World Cup\"\n",
    "         ]\n",
    "\n",
    "plt.title(\"Image\")\n",
    "plt.xlabel(\"X pixel scaling\")\n",
    "plt.ylabel(\"Y pixels scaling\")\n",
    "\n",
    "total_time = 0\n",
    "for x in prompt:\n",
    "    start_time = time.time()\n",
    "    image = pipe(x).images[0]\n",
    "    total_time = total_time + (time.time()-start_time)\n",
    "    image.save(\"image.png\")\n",
    "    image = mpimg.imread(\"image.png\")\n",
    "    #clear_output(wait=True)\n",
    "    plt.imshow(image)\n",
    "    plt.show()\n",
    "print(\"Average time: \", np.round((total_time/len(prompt)), 2), \"seconds\")"
   ]
  },
  {
   "cell_type": "markdown",
   "metadata": {},
   "source": [
    "**Now have Fun**"
   ]
  },
  {
   "cell_type": "code",
   "execution_count": null,
   "metadata": {
    "scrolled": false
   },
   "outputs": [],
   "source": [
    "user_input = \"\"\n",
    "print(\"Enter Prompt, type exit to quit\")\n",
    "while user_input != \"exit\": \n",
    "    total_time = 0\n",
    "    user_input = input(\"What prompt would you like to give?  \")\n",
    "    if user_input == \"exit\":\n",
    "        break\n",
    "    start_time = time.time()\n",
    "    image = pipe(user_input).images[0]\n",
    "    total_time = total_time + (time.time()-start_time)\n",
    "    image.save(\"image.png\")\n",
    "\n",
    "    plt.title(\"Image\")\n",
    "    plt.xlabel(\"X pixel scaling\")\n",
    "    plt.ylabel(\"Y pixels scaling\")\n",
    "\n",
    "    image = mpimg.imread(\"image.png\")\n",
    "    plt.imshow(image)\n",
    "    plt.show()\n",
    "    print(\"time: \", np.round(total_time, 2), \"seconds\")\n",
    "    \n"
   ]
  }
 ],
 "metadata": {
  "kernelspec": {
   "display_name": "Python 3",
   "language": "python",
   "name": "python3"
  },
  "language_info": {
   "codemirror_mode": {
    "name": "ipython",
    "version": 3
   },
   "file_extension": ".py",
   "mimetype": "text/x-python",
   "name": "python",
   "nbconvert_exporter": "python",
   "pygments_lexer": "ipython3",
   "version": "3.8.10"
  }
 },
 "nbformat": 4,
 "nbformat_minor": 2
}
